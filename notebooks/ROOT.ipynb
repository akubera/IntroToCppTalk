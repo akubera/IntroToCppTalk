{
 "metadata": {
  "celltoolbar": "Slideshow",
  "name": "",
  "signature": "sha256:5d1d549ec3352cc797cc3183bdee79323784c83751e122761dee32501d9b8d49"
 },
 "nbformat": 3,
 "nbformat_minor": 0,
 "worksheets": [
  {
   "cells": [
    {
     "cell_type": "code",
     "collapsed": false,
     "input": [
      "%load_ext ROOTmagi\n",
      "c\n"
     ],
     "language": "python",
     "metadata": {
      "internals": {
       "slide_helper": "subslide_end",
       "slide_type": "subslide"
      },
      "slide_helper": "slide_end",
      "slideshow": {
       "slide_type": "slide"
      }
     },
     "outputs": [],
     "prompt_number": 1
    },
    {
     "cell_type": "markdown",
     "metadata": {
      "internals": {
       "slide_helper": "subslide_end",
       "slide_type": "subslide"
      },
      "slide_helper": "slide_end",
      "slideshow": {
       "slide_type": "slide"
      }
     },
     "source": [
      "# Introduction to ROOT\n",
      "\n",
      "### Andrew Kubera\n"
     ]
    },
    {
     "cell_type": "markdown",
     "metadata": {
      "internals": {
       "slide_type": "subslide"
      },
      "slideshow": {
       "slide_type": "slide"
      }
     },
     "source": [
      "# ROOT\n",
      "\n",
      "* C++ Framework developed by CERN in the '90s to replace old FORTRAN code\n",
      "* Uses its own compiler/interpreter: CINT (C INTerpreter)\n",
      "* Can ALSO be compiled like a 'normal' C++ program\n",
      "* All classes start with letter '`T`'\n",
      " * 1D histogram of doubles: `TH1D`\n",
      " * Random number generator: `TRandom`\n",
      " * Standard Output File: `TFile`"
     ]
    },
    {
     "cell_type": "markdown",
     "metadata": {
      "internals": {
       "frag_number": 3,
       "slide_helper": "subslide_end"
      },
      "slide_helper": "slide_end",
      "slideshow": {
       "slide_type": "fragment"
      }
     },
     "source": [
      "* Does a lot of 'magic' in the background for you, so you don't have to worry about certain things\n",
      " * Can cause confusion for beginners\n",
      " * 'Automatic' memory management (create everything with `new`) \n",
      " * Stored type information (`TClass`)\n",
      " * Interpreter mode : No need for `#include`\n",
      "* Does NOT use templates, instead everything inherits from class `TObject`"
     ]
    },
    {
     "cell_type": "markdown",
     "metadata": {
      "internals": {
       "frag_helper": "fragment_end",
       "frag_number": 3,
       "slide_helper": "subslide_end",
       "slide_type": "subslide"
      },
      "slide_helper": "slide_end",
      "slideshow": {
       "slide_type": "slide"
      }
     },
     "source": [
      "# Standards\n",
      "\n",
      "* ROOT Standards differ from the standard C++ library\n",
      "\n",
      "* Functions Start with capital letter, use capitals to separate words\n",
      " * `file->FindObject(\"hist\");`\n",
      " * `Good: obj->Write()` \n",
      " * `Bad : obj->write()`\n",
      " \n",
      " \n",
      "* Standard function names start with a verb\n",
      " * `Good: array->GetSize();`\n",
      " * `Bad : array->Size();`\n",
      "\n",
      "\n",
      "* Exception to capitalization rule : Abbreviation or a single letter word:\n",
      "  * `Good: hist->GetXaxis()` \n",
      "  * `Bad : hist->GetXAxis()`"
     ]
    },
    {
     "cell_type": "markdown",
     "metadata": {},
     "source": [
      "# TObject\n",
      "\n",
      "Mother of _most_ ROOT classes. \n",
      "\n",
      "Adds methods common to ROOT objects, such as `Draw()`, `FindObject()`, `GetUniqueID()`, `IsA()`, `Write()`.\n",
      "\n",
      "NOT an abstract class - you don't **have** to implement anything to use TObject as your parent class.\n",
      "\n",
      "[TObject Documentation](http://root.cern.ch/root/html/TObject.html)\n",
      "\n"
     ]
    },
    {
     "cell_type": "markdown",
     "metadata": {
      "internals": {
       "frag_helper": "fragment_end",
       "frag_number": 3,
       "slide_helper": "subslide_end",
       "slide_type": "subslide"
      },
      "slide_helper": "slide_end",
      "slideshow": {
       "slide_type": "slide"
      }
     },
     "source": [
      "# TBrowser\n",
      "\n",
      "Interface for looking at objects (often histograms) and inspecting files.\n",
      "\n",
      "Create with `'new TBrowser()'`\n"
     ]
    },
    {
     "cell_type": "markdown",
     "metadata": {
      "internals": {
       "frag_helper": "fragment_end",
       "frag_number": 3,
       "slide_helper": "subslide_end",
       "slide_type": "subslide"
      },
      "slide_helper": "slide_end",
      "slideshow": {
       "slide_type": "slide"
      }
     },
     "source": [
      "# TFile\n",
      "\n",
      "Standard ROOT output file (`.root` extension).\n",
      "Will automatically grab objects created AFTER the file is opened.\n",
      "\n",
      "```cpp\n",
      "TFile *file = new TFile(\"filename.root\", \"RECREATE\");\n",
      "TH1D *hist = new TH1D(\"hist\", \"My Histogram\", 100, 0, 10);\n",
      "\n",
      "... fill hist ...\n",
      "\n",
      "file->Write(); // Saves hist in filename.root\n",
      "```\n",
      "\n",
      "[TFile Documentation](http://root.cern.ch/root/html/TFile.html)\n"
     ]
    },
    {
     "cell_type": "code",
     "collapsed": false,
     "input": [
      "%%ROOT\n",
      "\n",
      "#include <TFile.h>\n",
      "#include <TTree.h>\n",
      "#include <TRandom.h>\n",
      "#include <TH1D.h>\n",
      "#include <iostream>\n",
      "\n",
      "int main()\n",
      "{\n",
      "  TFile *file = new TFile(\"rangen.root\", \"RECREATE\");\n",
      "  TRandom *rnd = new TRandom();\n",
      "  TH1D *hist = new TH1D(\"gaus\", \"Gaussian Distribution\", 1000, -5, 5);\n",
      "\n",
      "  for (int i = 0; i < 50000; i++) {\n",
      "    hist->Fill(rnd->Gaus());\n",
      "  }\n",
      "\n",
      "  file->Write();\n",
      "  std::cout << \"Done. Hurray!!\";\n",
      "  return 0;\n",
      "}\n"
     ],
     "language": "python",
     "metadata": {
      "internals": {
       "frag_helper": "fragment_end",
       "frag_number": 3,
       "slide_helper": "subslide_end",
       "slide_type": "subslide"
      },
      "slide_helper": "slide_end",
      "slideshow": {
       "slide_type": "slide"
      }
     },
     "outputs": [
      {
       "output_type": "stream",
       "stream": "stdout",
       "text": [
        "Done. Hurray!!\n"
       ]
      }
     ],
     "prompt_number": 11
    },
    {
     "cell_type": "markdown",
     "metadata": {
      "internals": {
       "frag_helper": "fragment_end",
       "frag_number": 3,
       "slide_helper": "subslide_end",
       "slide_type": "subslide"
      },
      "slide_helper": "slide_end",
      "slideshow": {
       "slide_type": "slide"
      }
     },
     "source": [
      "# TObjArray\n",
      "\n",
      "ROOT's container of TObject pointers. Kind of like std::vector<TObject*> vec;\n",
      "\n",
      "```cpp\n",
      "TObjArray array();\n",
      "\n",
      "array->Add(new TH1D(\"h0\", \"Histogram 0\", 100, 0, 10));\n",
      "array->Add(new TH1D(\"h1\", \"Histogram 1\", 100, 10, 100));\n",
      "array->Add(new TH1D(\"h2\", \"Histogram 2\", 100, 100, 1000));\n",
      "\n",
      "array->FindObject(\"h1\")->Fill(25);\n",
      "```\n",
      "\n",
      "[TObjArray Documentation](http://root.cern.ch/root/html/TObjArray.html)\n"
     ]
    },
    {
     "cell_type": "markdown",
     "metadata": {
      "internals": {
       "frag_helper": "fragment_end",
       "frag_number": 3,
       "slide_helper": "subslide_end",
       "slide_type": "subslide"
      },
      "slide_helper": "slide_end",
      "slideshow": {
       "slide_type": "slide"
      }
     },
     "source": [
      "# TString\n",
      "\n",
      "ROOT's implementation of string (NOT compatible with `std::string`!).\n",
      "* Not inherited from `TObject`. You cannot store in a `TObjArray`. `:-(`\n",
      " * Must use another class `TObjString`\n",
      " \n",
      "```cpp\n",
      "TString str(\"This is my string. It's just a bunch of chars\");\n",
      "\n",
      "// NO! std::cout << str << '\\n'\n",
      "std:cout << str.Data() << '\\n'; // str.Data() returns char* to internal character array\n",
      " \n",
      "TObjArray *words = str.Tokenize(\" \"); // Break string into tokens (around spaces)\n",
      "for (int i = 0; i < words->GetEntries(); i++) {\n",
      "  TString *word = words[i]->At(i);\n",
      "  cout << \"Next word is '\" << word->Data() << \"'\\n\"; \n",
      "}\n",
      "```\n",
      "\n",
      "[TString Documentation](http://root.cern.ch/root/html/TString.html)\n"
     ]
    },
    {
     "cell_type": "code",
     "collapsed": false,
     "input": [
      "%%ROOT\n",
      "\n",
      "#include <TString.h>\n",
      "#include <TObjArray.h>\n",
      "#include <TObjString.h>\n",
      "#include <iostream>\n",
      "\n",
      "using namespace std;\n",
      "\n",
      "int main(){\n",
      "TString str(\"This is my string. It's just a bunch of chars\");\n",
      "\n",
      "// NO! std::cout << str << '\\n'\n",
      "std:cout << str.Data() << '\\n';\n",
      " \n",
      "TObjArray *words = str.Tokenize(\" \"); // Break string into tokens (around spaces)\n",
      "\n",
      "std::cout << \"\\nFound : \"  << words->GetEntries() << \" words \\n\\n\";\n",
      "\n",
      "for (int i = 0; i < words->GetEntries(); i++) {\n",
      "  TString word = ((TObjString*)words->At(i))->GetString();\n",
      "  cout << \"Word \" << i << \" is '\" << word.Data() << \"'\\n\"; \n",
      "}\n",
      "return 0;\n",
      "}"
     ],
     "language": "python",
     "metadata": {
      "internals": {
       "frag_helper": "fragment_end",
       "frag_number": 3,
       "slide_type": "subslide"
      },
      "slideshow": {
       "slide_type": "slide"
      }
     },
     "outputs": [
      {
       "output_type": "stream",
       "stream": "stdout",
       "text": [
        "This is my string. It's just a bunch of chars\n",
        "\n",
        "Found : 10 words \n",
        "\n",
        "Word 0 is 'This'\n",
        "Word 1 is 'is'\n",
        "Word 2 is 'my'\n",
        "Word 3 is 'string.'\n",
        "Word 4 is 'It's'\n",
        "Word 5 is 'just'\n",
        "Word 6 is 'a'\n",
        "Word 7 is 'bunch'\n",
        "Word 8 is 'of'\n",
        "Word 9 is 'chars'\n",
        "\n"
       ]
      }
     ],
     "prompt_number": 43
    },
    {
     "cell_type": "markdown",
     "metadata": {
      "slideshow": {
       "slide_type": "slide"
      }
     },
     "source": [
      "# Example :: Monte Carlo \u03c0\n",
      "\n",
      "Idea: Find Pi using random numbers\n",
      "\n",
      "\n",
      "* Generate random points in an `RxR` square.\n",
      "* Find the ratio of number of points within the square to the number in the inscriped circle\n",
      "* Number of points is proportional to area\n",
      "* Ratio yields a number proportional to \u03c0\n",
      "  * circle_area = $\u03c0r^2$\n",
      "  * square_area = $(2r)^2$\n",
      "  * circle_area/square_area = $\u03c0/4$"
     ]
    },
    {
     "cell_type": "markdown",
     "metadata": {
      "slideshow": {
       "slide_type": "slide"
      }
     },
     "source": [
      "```cpp\n",
      "TRandom3 rng(); // Create Random Number Generator\n",
      "\n",
      "int inside_circle = 0, total = 100; // total number and number inside circle\n",
      "\n",
      "for (int i = 0; i < total; i++) {\n",
      "  double x = rng.Uniform(-1., 1.), // Get random x,y pair from uniform\n",
      "         y = rng.Uniform(-1., 1);  // distribution between -1,1\n",
      "  if (x*x + y*y < 1.0) {\n",
      "    inside_circle++; // If x and y are within circle, increment 'inside_circle'\n",
      "  }\n",
      "}\n",
      "\n",
      "double calc_pi = inside_circle/total * 4; // calculate pi\n",
      "\n",
      "cout << \"Calculated \u03c0\u00a0to be : \" << calc_pi << \"\\n\";\n",
      "\n",
      "```\n"
     ]
    },
    {
     "cell_type": "code",
     "collapsed": false,
     "input": [
      "%%ROOT\n",
      "\n",
      "#include <iostream>\n",
      "#include <TRandom3.h>\n",
      "\n",
      "using namespace std;\n",
      "\n",
      "int main()\n",
      "{\n",
      "TRandom3 rng; // Create Random Number Generator\n",
      "rng.SetSeed(); // Set a random seed\n",
      "    \n",
      "int inside_circle = 0, total = 100; // total number and number inside circle\n",
      "\n",
      "for (int i = 0; i < total; i++) {\n",
      "  double x = rng.Uniform(-1., 1.), // Get random x,y pair from uniform\n",
      "         y = rng.Uniform(-1., 1);  // distribution between -1,1\n",
      "  if (x*x + y*y < 1) {\n",
      "    inside_circle++;\n",
      "  }\n",
      "}\n",
      "\n",
      "float calc_pi = 4.0 * inside_circle/total;\n",
      "\n",
      "cout << \"Calculated \u03c0 to be : \" << std::fixed << calc_pi << \"\\n\";\n",
      "cout << \"M_PI \" << M_PI << \"\\n\";\n",
      "}"
     ],
     "language": "python",
     "metadata": {
      "internals": {
       "frag_helper": "fragment_end",
       "frag_number": 3
      },
      "slideshow": {
       "slide_type": "slide"
      }
     },
     "outputs": [
      {
       "output_type": "stream",
       "stream": "stdout",
       "text": [
        "Calculated \u03c0 to be : 3.560000\n",
        "M_PI 3.141593\n",
        "\n"
       ]
      }
     ],
     "prompt_number": 67
    },
    {
     "cell_type": "markdown",
     "metadata": {
      "slideshow": {
       "slide_type": "slide"
      }
     },
     "source": [
      "# Well... that was boring\n",
      "\n",
      "So that worked, but we didn't use Object Oriented Programming!\n",
      "\n",
      "Let's figure out a different question, what does the distribution of \u03c0 look like with different 'total' values?\n",
      "Solve with classes.\n"
     ]
    },
    {
     "cell_type": "markdown",
     "metadata": {},
     "source": [
      "```cpp\n",
      "\n",
      "class PiCalculator {\n",
      "public:\n",
      "  PiCalculator (TRandom3* rnd, int tries);\n",
      "  \n",
      "  double GetPi():\n",
      "  \n",
      "protected:\n",
      "  TRandom3* _rnd;\n",
      "};\n",
      "\n",
      "```"
     ]
    },
    {
     "cell_type": "code",
     "collapsed": false,
     "input": [],
     "language": "python",
     "metadata": {},
     "outputs": []
    }
   ],
   "metadata": {}
  }
 ]
}