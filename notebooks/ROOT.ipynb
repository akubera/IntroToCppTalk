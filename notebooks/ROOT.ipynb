{
 "metadata": {
  "name": "",
  "signature": "sha256:a80de83ec926073a3b38bf18c45bf45cf7bd17ba09aa527f1172fb37bdbab93c"
 },
 "nbformat": 3,
 "nbformat_minor": 0,
 "worksheets": [
  {
   "cells": [
    {
     "cell_type": "code",
     "collapsed": false,
     "input": [
      "%load_ext ROOTmagic\n"
     ],
     "language": "python",
     "metadata": {
      "internals": {
       "slide_helper": "subslide_end",
       "slide_type": "subslide"
      },
      "slide_helper": "slide_end",
      "slideshow": {
       "slide_type": "slide"
      }
     },
     "outputs": [],
     "prompt_number": 1
    },
    {
     "cell_type": "markdown",
     "metadata": {
      "internals": {
       "slide_helper": "subslide_end",
       "slide_type": "subslide"
      },
      "slide_helper": "slide_end",
      "slideshow": {
       "slide_type": "slide"
      }
     },
     "source": [
      "# Introduction to ROOT\n",
      "\n",
      "### Andrew Kubera\n"
     ]
    },
    {
     "cell_type": "markdown",
     "metadata": {
      "internals": {
       "slide_type": "subslide"
      },
      "slideshow": {
       "slide_type": "slide"
      }
     },
     "source": [
      "# ROOT\n",
      "\n",
      "* C++ Framework developed by CERN in the '90s to replace old FORTRAN code\n",
      "* Uses its own compiler/interpreter: CINT (C INTerpreter)\n",
      "* Can ALSO be compiled like a 'normal' C++ program\n",
      "* All classes start with letter '`T`'\n",
      " * 1D histogram of doubles: `TH1D`\n",
      " * Random number generator: `TRandom`\n",
      " * Standard Output File: `TFile`"
     ]
    },
    {
     "cell_type": "markdown",
     "metadata": {
      "internals": {
       "frag_number": 3,
       "slide_helper": "subslide_end"
      },
      "slide_helper": "slide_end",
      "slideshow": {
       "slide_type": "fragment"
      }
     },
     "source": [
      "* Does a lot of 'magic' in the background for you, so you don't have to worry about certain things\n",
      " * Can cause confusion for beginners\n",
      " * 'Automatic' memory management (create everything with `new`) \n",
      " * Stored type information (`TClass`)\n",
      " * Interpreter mode : No need for `#include`\n",
      "* Does NOT use templates, instead everything inherits from class `TObject`"
     ]
    },
    {
     "cell_type": "markdown",
     "metadata": {
      "internals": {
       "frag_helper": "fragment_end",
       "frag_number": 3,
       "slide_helper": "subslide_end",
       "slide_type": "subslide"
      },
      "slide_helper": "slide_end",
      "slideshow": {
       "slide_type": "slide"
      }
     },
     "source": [
      "# Standards\n",
      "\n",
      "* Functions Start with capital letter, use capitals to separate words\n",
      " * `obj->Write()` not `obj->write()`\n",
      " * `file->FindObject(\"hist\");`\n",
      "* Standard function names start with a verb\n",
      " * `file->FindObject(\"hist\");` not `file->Object(\"Hist\");`\n",
      "* Exception to capitalization : Appreviation or single letter word\n",
      " * `hist->GetXaxis()` not `hist->GetXAxis()`"
     ]
    },
    {
     "cell_type": "markdown",
     "metadata": {
      "internals": {
       "frag_helper": "fragment_end",
       "frag_number": 3,
       "slide_helper": "subslide_end",
       "slide_type": "subslide"
      },
      "slide_helper": "slide_end",
      "slideshow": {
       "slide_type": "slide"
      }
     },
     "source": [
      "# TBrowser\n",
      "\n",
      "Interface for looking at objects (often histograms) and inspecting files.\n",
      "\n",
      "Create with `'new TBrowser()'`"
     ]
    },
    {
     "cell_type": "markdown",
     "metadata": {
      "internals": {
       "frag_helper": "fragment_end",
       "frag_number": 3,
       "slide_helper": "subslide_end",
       "slide_type": "subslide"
      },
      "slide_helper": "slide_end",
      "slideshow": {
       "slide_type": "slide"
      }
     },
     "source": [
      "# TFile\n",
      "\n",
      "Standard output file, will automatically grab objects.\n",
      "\n",
      "```cpp\n",
      "TFile *file = new TFile(\"filename.root\", \"RECREATE\");\n",
      "TH1D *hist = new TH1D(\"hist\", \"My Histogram\", 100, 0, 10);\n",
      "\n",
      "... fill hist ...\n",
      "\n",
      "file->Write(); // Saves hist in filename.root\n",
      "```\n"
     ]
    },
    {
     "cell_type": "code",
     "collapsed": false,
     "input": [
      "%%ROOT\n",
      "\n",
      "#include <TFile.h>\n",
      "#include <TTree.h>\n",
      "#include <TRandom.h>\n",
      "#include <TH1D.h>\n",
      "#include <iostream>\n",
      "\n",
      "int main()\n",
      "{\n",
      "  TFile *file = new TFile(\"rangen.root\", \"RECREATE\");\n",
      "  TRandom *rnd = new TRandom();\n",
      "  TH1D *hist = new TH1D(\"gaus\", \"Gaussian Distribution\", 1000, -5, 5);\n",
      "\n",
      "  for (int i = 0; i < 50000; i++) {\n",
      "    hist->Fill(rnd->Gaus());\n",
      "  }\n",
      "\n",
      "  file->Write();\n",
      "  std::cout << \"Done. Hurray!!\";\n",
      "  return 0;\n",
      "}\n"
     ],
     "language": "python",
     "metadata": {
      "internals": {
       "frag_helper": "fragment_end",
       "frag_number": 3,
       "slide_type": "subslide"
      },
      "slideshow": {
       "slide_type": "slide"
      }
     },
     "outputs": [
      {
       "output_type": "stream",
       "stream": "stdout",
       "text": [
        "Done. Hurray!!\n"
       ]
      }
     ],
     "prompt_number": 11
    },
    {
     "cell_type": "code",
     "collapsed": false,
     "input": [
      "! source /opt/alice/root/v5-34-21/bin/thisroot.sh && which root-config && echo $LD_LIBRARY_PATH\n",
      "! echo $LD_LIBRARY_PATH"
     ],
     "language": "python",
     "metadata": {
      "internals": {
       "frag_helper": "fragment_end",
       "frag_number": 3
      },
      "slideshow": {
       "slide_type": "-"
      }
     },
     "outputs": [
      {
       "output_type": "stream",
       "stream": "stdout",
       "text": [
        "/opt/alice/root/v5-34-21/bin/root-config\r\n",
        "/opt/alice/root/v5-34-21/lib:/Users/andrewkubera/.local/lib\r\n"
       ]
      },
      {
       "output_type": "stream",
       "stream": "stdout",
       "text": [
        "/Users/andrewkubera/.local/lib\r\n"
       ]
      }
     ],
     "prompt_number": 13
    },
    {
     "cell_type": "code",
     "collapsed": false,
     "input": [
      "! which root-config"
     ],
     "language": "python",
     "metadata": {
      "internals": {
       "frag_helper": "fragment_end",
       "frag_number": 3
      },
      "slideshow": {
       "slide_type": "-"
      }
     },
     "outputs": [
      {
       "output_type": "stream",
       "stream": "stdout",
       "text": [
        "/opt/local/bin/root-config\r\n"
       ]
      }
     ],
     "prompt_number": 11
    },
    {
     "cell_type": "code",
     "collapsed": false,
     "input": [
      "import ROOT"
     ],
     "language": "python",
     "metadata": {
      "internals": {
       "frag_helper": "fragment_end",
       "frag_number": 3
      },
      "slideshow": {
       "slide_type": "-"
      }
     },
     "outputs": [],
     "prompt_number": 14
    },
    {
     "cell_type": "code",
     "collapsed": false,
     "input": [
      "h = ROOT.TH1D(\"h\", \"My Histogram; Xaxis; YAxis;\", 10, 0, 1);"
     ],
     "language": "python",
     "metadata": {
      "internals": {
       "frag_helper": "fragment_end",
       "frag_number": 3
      },
      "slideshow": {
       "slide_type": "-"
      }
     },
     "outputs": [],
     "prompt_number": 16
    },
    {
     "cell_type": "code",
     "collapsed": false,
     "input": [
      "h.Draw()"
     ],
     "language": "python",
     "metadata": {
      "internals": {
       "frag_helper": "fragment_end",
       "frag_number": 3
      },
      "slideshow": {
       "slide_type": "-"
      }
     },
     "outputs": [],
     "prompt_number": 17
    },
    {
     "cell_type": "code",
     "collapsed": false,
     "input": [
      "import sys\n",
      "sys.prefix"
     ],
     "language": "python",
     "metadata": {
      "internals": {
       "frag_helper": "fragment_end",
       "frag_number": 3
      },
      "slideshow": {
       "slide_type": "-"
      }
     },
     "outputs": [
      {
       "metadata": {},
       "output_type": "pyout",
       "prompt_number": 7,
       "text": [
        "'/opt/local/Library/Frameworks/Python.framework/Versions/3.4'"
       ]
      }
     ],
     "prompt_number": 7
    },
    {
     "cell_type": "code",
     "collapsed": false,
     "input": [],
     "language": "python",
     "metadata": {
      "internals": {
       "frag_helper": "fragment_end",
       "frag_number": 3,
       "slide_helper": "subslide_end"
      },
      "slide_helper": "slide_end",
      "slideshow": {
       "slide_type": "-"
      }
     },
     "outputs": []
    }
   ],
   "metadata": {}
  }
 ]
}