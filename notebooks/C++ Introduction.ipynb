{
 "metadata": {
  "celltoolbar": "Slideshow",
  "name": "",
  "signature": "sha256:aeb4e92c63e39884da0b23afaaf40f795f01a30238fb3b613410caa93f0bce5f"
 },
 "nbformat": 3,
 "nbformat_minor": 0,
 "worksheets": [
  {
   "cells": [
    {
     "cell_type": "markdown",
     "metadata": {
      "internals": {
       "slide_type": "subslide"
      },
      "slideshow": {
       "slide_type": "slide"
      }
     },
     "source": [
      "# Introduction to C++\n",
      "\n",
      "### Andrew Kubera\n",
      "### Nov 19, 2014"
     ]
    },
    {
     "cell_type": "code",
     "collapsed": false,
     "input": [
      "%load_ext cppmagic\n"
     ],
     "language": "python",
     "metadata": {
      "internals": {
       "slide_helper": "subslide_end"
      },
      "slide_helper": "slide_end",
      "slideshow": {
       "slide_type": "skip"
      }
     },
     "outputs": []
    },
    {
     "cell_type": "markdown",
     "metadata": {
      "internals": {
       "slide_helper": "subslide_end",
       "slide_type": "subslide"
      },
      "slide_helper": "slide_end",
      "slideshow": {
       "slide_type": "slide"
      }
     },
     "source": [
      "# C++\n",
      "\n",
      "* Object oriented programming language, extending C\n",
      " * Most C programs are valid C++ programs\n",
      "* Developed by Bjarne Stroustrup at Bell Labs ~1979\n",
      "* The plus-plus represents the \"iteration\" of C\n",
      "* Still evolving : new standards C++11/C++14"
     ]
    },
    {
     "cell_type": "markdown",
     "metadata": {
      "internals": {
       "slide_helper": "subslide_end",
       "slide_type": "subslide"
      },
      "slide_helper": "subslide_end",
      "slideshow": {
       "slide_type": "slide"
      }
     },
     "source": [
      "# Keywords\n",
      "\n",
      "###### C\n",
      "\n",
      "> int double  float short long  char\n",
      "> struct enum union void signed unsigned\n",
      "\n",
      "> auto const extern static volatile\n",
      "\n",
      "> if else switch case\n",
      "\n",
      "> for while do continue break\n",
      "\n",
      "> default goto register sizeof typedef return\n",
      "\n",
      "count : 32\n"
     ]
    },
    {
     "cell_type": "markdown",
     "metadata": {
      "internals": {
       "frag_number": 4,
       "slide_helper": "subslide_end",
       "slide_type": "subslide"
      },
      "slide_helper": "subslide_end",
      "slideshow": {
       "slide_type": "subslide"
      }
     },
     "source": [
      "###### C++\n",
      "\n",
      "\n",
      "> int double  float short long  char\n",
      "> struct enum union void signed unsigned\n",
      "\n",
      "> auto const extern static volatile\n",
      "\n",
      "> if else switch case\n",
      "\n",
      "> for while do continue break\n",
      "\n",
      "> default goto register sizeof typedef return\n",
      "\n",
      "---\n",
      "> bool true false wchar_t\n",
      "\n",
      "> class namespace this\n",
      "\n",
      "> new delete\n",
      "\n",
      "> try catch throw\n",
      "\n",
      "> public protected private\n",
      "\n",
      "> dynamic_cast    reinterpret_cast const_cast static_cast\n",
      "\n",
      "> asm          explicit      mutable           typeid\n",
      "> operator   template          typename\n",
      "> friend using inline virtual\n",
      "\n",
      "count : 62"
     ]
    },
    {
     "cell_type": "markdown",
     "metadata": {
      "internals": {
       "slide_helper": "subslide_end",
       "slide_type": "subslide"
      },
      "slide_helper": "slide_end",
      "slideshow": {
       "slide_type": "subslide"
      }
     },
     "source": [
      "###### python\n",
      "\n",
      "> if elif else\n",
      "\n",
      "> return yield try except finally raise \n",
      "\n",
      "> and or not is in with as\n",
      "\n",
      "> import from \n",
      "\n",
      "> for while continue break\n",
      "\n",
      "> del \n",
      "> class def lambda \n",
      "\n",
      "> return  global \n",
      "> assert pass print exec\n",
      "\n",
      "count : 32\n",
      "\n"
     ]
    },
    {
     "cell_type": "markdown",
     "metadata": {
      "internals": {
       "frag_helper": "fragment_end",
       "frag_number": 4,
       "slide_helper": "subslide_end",
       "slide_type": "subslide"
      },
      "slide_helper": "slide_end",
      "slideshow": {
       "slide_type": "slide"
      }
     },
     "source": [
      "# Compiling\n",
      "\n",
      "### GNU\n",
      "\n",
      "* gcc\n",
      "* g++\n",
      "\n",
      "### Clang/LLVM\n",
      "\n",
      "* clang\n",
      "* clang++\n",
      "\n",
      "### ROOT (CINT)\n",
      "\n",
      "* root &lt;filename&gt;++\n"
     ]
    },
    {
     "cell_type": "markdown",
     "metadata": {
      "internals": {
       "frag_helper": "fragment_end",
       "frag_number": 4,
       "slide_type": "subslide"
      },
      "slideshow": {
       "slide_type": "slide"
      }
     },
     "source": [
      "# C Example"
     ]
    },
    {
     "cell_type": "code",
     "collapsed": false,
     "input": [
      "%%cpp\n",
      "\n",
      "#include <stdio.h>\n",
      "int main() {\n",
      "  puts(\"Hello World!\");\n",
      "  return 0;\n",
      "}"
     ],
     "language": "python",
     "metadata": {
      "internals": {
       "frag_helper": "fragment_end",
       "frag_number": 8,
       "slide_helper": "subslide_end"
      },
      "slide_helper": "slide_end",
      "slideshow": {
       "slide_type": "fragment"
      }
     },
     "outputs": []
    },
    {
     "cell_type": "markdown",
     "metadata": {
      "internals": {
       "frag_helper": "fragment_end",
       "frag_number": 8,
       "slide_type": "subslide"
      },
      "slideshow": {
       "slide_type": "slide"
      }
     },
     "source": [
      "# C++ Example"
     ]
    },
    {
     "cell_type": "code",
     "collapsed": false,
     "input": [
      "%%cpp\n",
      "\n",
      "#include <cstdio>\n",
      "\n",
      "int main() {\n",
      "  puts(\"Hello World.\");\n",
      "  return 0;\n",
      "}\n"
     ],
     "language": "python",
     "metadata": {
      "internals": {
       "frag_helper": "fragment_end",
       "frag_number": 10,
       "slide_helper": "subslide_end"
      },
      "slide_helper": "slide_end",
      "slideshow": {
       "slide_type": "fragment"
      }
     },
     "outputs": []
    },
    {
     "cell_type": "markdown",
     "metadata": {
      "internals": {
       "frag_helper": "fragment_end",
       "frag_number": 10,
       "slide_helper": "subslide_end",
       "slide_type": "subslide"
      },
      "slide_helper": "subslide_end",
      "slideshow": {
       "slide_type": "slide"
      }
     },
     "source": [
      "# Pointers\n",
      "\n",
      "* Contain memory location of a variable.\n",
      "\n",
      "* Created with: `TYPENAME *ptr`.\n",
      "* Get the memory location with:  `&VARIABLE_NAME`\n",
      "* Get value pointed at with: `*POINTER_NAME`.\n",
      "\n",
      "```cpp\n",
      "int a = 7;\n",
      "int *ptr = &a;    // ptr 'points' to a\n",
      "cout << a;        // 7\n",
      "cout << ptr;      // memory location (0x7fff5500e792)\n",
      "cout << *ptr;     // 'dereference' a (= 7)\n",
      "*ptr = 12;        // 'a' now equals 12\n",
      "cout << a;        // 12\n",
      "```"
     ]
    },
    {
     "cell_type": "code",
     "collapsed": false,
     "input": [
      "%%cpp\n",
      "\n",
      "#include <iostream>\n",
      "using namespace std;\n",
      "int main() {\n",
      "  int a = 7, b = 9;\n",
      "  int *ptr = &a;\n",
      "  cout << a << '\\n';\n",
      "  cout << ptr << '\\n';\n",
      "  cout << *ptr << '\\n';\n",
      "  *ptr = 12;\n",
      "  cout << \"a == \" << a << \"\\n\";\n",
      "  return 0;\n",
      "}"
     ],
     "language": "python",
     "metadata": {
      "internals": {
       "frag_helper": "fragment_end",
       "frag_number": 10,
       "slide_helper": "subslide_end",
       "slide_type": "subslide"
      },
      "slide_helper": "slide_end",
      "slideshow": {
       "slide_type": "subslide"
      }
     },
     "outputs": []
    },
    {
     "cell_type": "markdown",
     "metadata": {
      "internals": {
       "frag_helper": "fragment_end",
       "frag_number": 10,
       "slide_helper": "subslide_end",
       "slide_type": "subslide"
      },
      "slide_helper": "subslide_end",
      "slideshow": {
       "slide_type": "slide"
      }
     },
     "source": [
      "# References\n",
      "\n",
      "* Steals the identity of another variable\n",
      "* Not a pointer, but CAN change the value of another variable\n"
     ]
    },
    {
     "cell_type": "code",
     "collapsed": false,
     "input": [
      "%%cpp\n",
      "\n",
      "#include <iostream>\n",
      "using namespace std;\n",
      "\n",
      "void add_three(int x) {\n",
      " x += 3;\n",
      "}\n",
      "\n",
      "int main() {\n",
      "  int a = 7;\n",
      "  cout << a << '\\n';\n",
      "  add_three(a);\n",
      "  cout << a << '\\n';\n",
      "}"
     ],
     "language": "python",
     "metadata": {
      "internals": {
       "frag_helper": "fragment_end",
       "frag_number": 10,
       "slide_helper": "subslide_end",
       "slide_type": "subslide"
      },
      "slide_helper": "slide_end",
      "slideshow": {
       "slide_type": "subslide"
      }
     },
     "outputs": []
    },
    {
     "cell_type": "markdown",
     "metadata": {
      "internals": {
       "frag_helper": "fragment_end",
       "frag_number": 10,
       "slide_type": "subslide"
      },
      "slideshow": {
       "slide_type": "slide"
      }
     },
     "source": [
      "# Memory Management"
     ]
    },
    {
     "cell_type": "markdown",
     "metadata": {
      "internals": {
       "frag_helper": "fragment_end",
       "frag_number": 16
      },
      "slideshow": {
       "slide_type": "fragment"
      }
     },
     "source": [
      "* `C : malloc(), free() `   &#8592; System Calls \n",
      "```cpp\n",
      "int *a = malloc(sizeof(int) * 100);\n",
      "...\n",
      "free(a);\n",
      "```"
     ]
    },
    {
     "cell_type": "markdown",
     "metadata": {
      "internals": {
       "frag_helper": "fragment_end",
       "frag_number": 17
      },
      "slideshow": {
       "slide_type": "fragment"
      }
     },
     "source": [
      "* `C++: new, delete`   &#8592; Language keywords"
     ]
    },
    {
     "cell_type": "markdown",
     "metadata": {
      "internals": {
       "frag_helper": "fragment_end",
       "frag_number": 18,
       "slide_helper": "subslide_end"
      },
      "slide_helper": "subslide_end",
      "slideshow": {
       "slide_type": "fragment"
      }
     },
     "source": [
      "\n",
      "```cpp\n",
      "int *i = new int; // create integer in dynamic memory space \n",
      "                  // (the 'heap')\n",
      "\n",
      "*i = 1025;  // Set the value at memory position 'i' to 1025\n",
      "\n",
      "int *a = new int[100]; // create 100 integers - \n",
      "                       // size is figured out for you!\n",
      "\n",
      "*(a + 3) = 8; // Set the third value from memory\n",
      "              // position 'a' to 8\n",
      "a[3] = 4;     // Set the same value to 4\n",
      "a[0] = 31415; // Set the ZEROTH value to 31415\n",
      "\n",
      "delete i;\n",
      "delete[] a;\n",
      "\n",
      "```"
     ]
    },
    {
     "cell_type": "code",
     "collapsed": false,
     "input": [
      "%%cpp\n",
      "#include <iostream>\n",
      "using namespace std;\n",
      "int main()\n",
      "{\n",
      "  int *a = new int;\n",
      "  cout << \"a : \" << a << ' ' << *a << \"\\n\";\n",
      "  *a = 100;\n",
      "  cout << \"a : \" << a << ' ' << *a << \"\\n\";\n",
      "\n",
      "  delete a;\n",
      "  return 0;\n",
      "}"
     ],
     "language": "python",
     "metadata": {
      "internals": {
       "frag_helper": "fragment_end",
       "frag_number": 18,
       "slide_helper": "subslide_end",
       "slide_type": "subslide"
      },
      "slide_helper": "slide_end",
      "slideshow": {
       "slide_type": "subslide"
      }
     },
     "outputs": []
    },
    {
     "cell_type": "markdown",
     "metadata": {
      "internals": {
       "frag_helper": "fragment_end",
       "frag_number": 18,
       "slide_type": "subslide"
      },
      "slideshow": {
       "slide_type": "slide"
      }
     },
     "source": [
      "## More C/C++ Differences \n",
      "Functions can have the same name with different arguments"
     ]
    },
    {
     "cell_type": "code",
     "collapsed": false,
     "input": [
      "%%cpp \n",
      "\n",
      "#include <cstdio>\n",
      "using namespace std;\n",
      "\n",
      "void foo(int a) {\n",
      "  printf(\"int: %d\\n\", a);\n",
      "}\n",
      "\n",
      "void foo(float a) {\n",
      "  printf(\"float: %f\\n\", a);\n",
      "}\n",
      "\n",
      "void foo(double a) {\n",
      "  printf(\"double: %f\\n\", a);\n",
      "}\n",
      "\n",
      "int main() {\n",
      "    foo(10);\n",
      "    foo(10.0f);\n",
      "    return 0;\n",
      "}"
     ],
     "language": "python",
     "metadata": {
      "internals": {
       "frag_helper": "fragment_end",
       "frag_number": 21,
       "slide_helper": "subslide_end"
      },
      "slide_helper": "subslide_end",
      "slideshow": {
       "slide_type": "fragment"
      }
     },
     "outputs": []
    },
    {
     "cell_type": "markdown",
     "metadata": {
      "internals": {
       "frag_helper": "fragment_end",
       "frag_number": 21,
       "slide_type": "subslide"
      },
      "slideshow": {
       "slide_type": "subslide"
      }
     },
     "source": [
      "Functions must be declared BEFORE use"
     ]
    },
    {
     "cell_type": "code",
     "collapsed": false,
     "input": [
      "%%cpp \n",
      "\n",
      "#include <cstdio>\n",
      "\n",
      "int main()\n",
      "{\n",
      "  say_hi();\n",
      "  return 0;\n",
      "}\n",
      "\n",
      "void say_hi() {\n",
      "  puts(\"hi\");\n",
      "}\n"
     ],
     "language": "python",
     "metadata": {
      "internals": {
       "frag_helper": "fragment_end",
       "frag_number": 23,
       "slide_helper": "subslide_end"
      },
      "slide_helper": "slide_end",
      "slideshow": {
       "slide_type": "fragment"
      }
     },
     "outputs": []
    },
    {
     "cell_type": "markdown",
     "metadata": {
      "internals": {
       "frag_helper": "fragment_end",
       "frag_number": 23,
       "slide_helper": "subslide_end",
       "slide_type": "subslide"
      },
      "slide_helper": "slide_end",
      "slideshow": {
       "slide_type": "slide"
      }
     },
     "source": [
      "# Object Oriented Programming\n",
      "\n",
      "#### What/Why?\n",
      "\n",
      "* Group data and functions together into classes.\n",
      "\n",
      "* Create objects from classes\n",
      "  * Each with their own version of the data\n",
      "  * The object has the class as its 'type'\n",
      "* The object's functions retreive/manipulate the data  \n",
      "\n",
      "\n",
      "* Classes can inherit data/functions from 'parent' classes"
     ]
    },
    {
     "cell_type": "markdown",
     "metadata": {
      "internals": {
       "frag_helper": "fragment_end",
       "frag_number": 23,
       "slide_helper": "subslide_end",
       "slide_type": "subslide"
      },
      "slide_helper": "subslide_end",
      "slideshow": {
       "slide_type": "slide"
      }
     },
     "source": [
      "# Object Oriented Programming\n",
      "\n",
      "### Principles\n",
      "\n",
      "* Encapsulation\n",
      " * Objects 'hide' data from rest of program (\"members\")\n",
      " * Only _objects themselves_ can change their state through use of functions or 'methods' \n"
     ]
    },
    {
     "cell_type": "markdown",
     "metadata": {
      "internals": {
       "frag_helper": "fragment_end",
       "frag_number": 23,
       "slide_helper": "subslide_end",
       "slide_type": "subslide"
      },
      "slide_helper": "subslide_end",
      "slideshow": {
       "slide_type": "subslide"
      }
     },
     "source": [
      "* Inheritance\n",
      " * Reuse classes\n",
      " * Start with general classes and become more specific \n",
      " * Less programming is required when adding functions to complex systems"
     ]
    },
    {
     "cell_type": "markdown",
     "metadata": {
      "internals": {
       "frag_helper": "fragment_end",
       "frag_number": 23,
       "slide_helper": "subslide_end",
       "slide_type": "subslide"
      },
      "slide_helper": "slide_end",
      "slideshow": {
       "slide_type": "subslide"
      }
     },
     "source": [
      "* Polymorphism\n",
      " * Different types can 'behave' the same \n",
      "   * Printing out a description\n",
      "   * Finding area of a shape :: \n",
      "     * `area(circle)`\n",
      "     * `area(rectangle)`\n",
      "   * Multiplication: \n",
      "     * `scalar * scalar`\n",
      "     * `vector * vector`\n",
      "     * `scalar * vector`\n",
      " * Child classes may behave as their parent class\n"
     ]
    },
    {
     "cell_type": "markdown",
     "metadata": {
      "internals": {
       "frag_helper": "fragment_end",
       "frag_number": 23,
       "slide_helper": "subslide_end",
       "slide_type": "subslide"
      },
      "slide_helper": "subslide_end",
      "slideshow": {
       "slide_type": "slide"
      }
     },
     "source": [
      "# Streams\n",
      "\n",
      "* C++ provides 3 standard 'console' streams\n",
      " * `#include <iostream>`\n",
      " * `std::cout` - standard output\n",
      " * `std::cin ` - standard input\n",
      " * `std::cerr` - error output\n",
      "* Streams are a good example of **polymorphism** by printing of different types with same interface.\n",
      "* Different kinds of streams\n",
      " * File streams : `#include <fstream>`\n",
      " * String streams : `#include <sstream>`\n",
      "* Use new 'stream operators': `>>` and `<<`\n",
      " * Think : things flowing into and out of the objects"
     ]
    },
    {
     "cell_type": "markdown",
     "metadata": {
      "internals": {
       "frag_helper": "fragment_end",
       "frag_number": 23,
       "slide_helper": "subslide_end",
       "slide_type": "subslide"
      },
      "slide_helper": "subslide_end",
      "slideshow": {
       "slide_type": "subslide"
      }
     },
     "source": [
      "\n",
      "```cpp\n",
      "int *ptr;\n",
      "std::cout << \"one \" << ptr << ' ' << *ptr << \" \" << 3;\n",
      "int i;\n",
      "std::cout << \"Please type an integer: \";\n",
      "std::cin >> i;\n",
      "\n",
      "if (i < 100) {\n",
      "  std::cerr << \"Error, number too small!\\n\";\n",
      "  exit(1);\n",
      "}\n",
      "```"
     ]
    },
    {
     "cell_type": "code",
     "collapsed": false,
     "input": [
      "%%cpp\n",
      "\n",
      "#include <iostream>\n",
      "#include <iomanip>\n",
      "\n",
      "int main()\n",
      "{\n",
      "  int i = 9;\n",
      "  std::cout << \"one \" << 2 << ' ' << 3.0 << \" \" << i << ' ' << &i << \"\\n\";\n",
      "  return 0;\n",
      "}\n"
     ],
     "language": "python",
     "metadata": {
      "internals": {
       "frag_helper": "fragment_end",
       "frag_number": 23,
       "slide_helper": "subslide_end",
       "slide_type": "subslide"
      },
      "slide_helper": "slide_end",
      "slideshow": {
       "slide_type": "subslide"
      }
     },
     "outputs": []
    },
    {
     "cell_type": "markdown",
     "metadata": {
      "internals": {
       "frag_helper": "fragment_end",
       "frag_number": 23,
       "slide_helper": "subslide_end",
       "slide_type": "subslide"
      },
      "slide_helper": "subslide_end",
      "slideshow": {
       "slide_type": "slide"
      }
     },
     "source": [
      "# Templates\n",
      "\n",
      "* Templates provide automatic polymorphism by demanding that functions or classes act on certain data types.\n",
      "* Specify functions which will have types _later_\n",
      "* Compile-time determination"
     ]
    },
    {
     "cell_type": "code",
     "collapsed": false,
     "input": [
      "%%cpp\n",
      "\n",
      "#include <iostream>\n",
      "using namespace std;\n",
      "\n",
      "template <typename T>\n",
      "void foo(T x) {\n",
      "  cout << \"[foo] \" << x << '\\n';\n",
      "}\n",
      "\n",
      "int main() {\n",
      " foo<int>(78);\n",
      " return 0;\n",
      "}"
     ],
     "language": "python",
     "metadata": {
      "internals": {
       "frag_helper": "fragment_end",
       "frag_number": 23,
       "slide_helper": "subslide_end",
       "slide_type": "subslide"
      },
      "slide_helper": "slide_end",
      "slideshow": {
       "slide_type": "subslide"
      }
     },
     "outputs": []
    },
    {
     "cell_type": "markdown",
     "metadata": {
      "internals": {
       "frag_helper": "fragment_end",
       "frag_number": 23,
       "slide_helper": "subslide_end",
       "slide_type": "subslide"
      },
      "slide_helper": "subslide_end",
      "slideshow": {
       "slide_type": "slide"
      }
     },
     "source": [
      "# Standard Template Library\n",
      "\n",
      "C++ comes with standard containers and algorithms which make a lot of things easier."
     ]
    },
    {
     "cell_type": "markdown",
     "metadata": {
      "internals": {
       "frag_helper": "fragment_end",
       "frag_number": 23,
       "slide_helper": "subslide_end",
       "slide_type": "subslide"
      },
      "slide_helper": "subslide_end",
      "slideshow": {
       "slide_type": "subslide"
      }
     },
     "source": [
      "# std::vector\n",
      "\n",
      "* Not mathematical vectors!\n",
      "* Automatically allocates memory and stores whatever type is in template\n",
      "  * Better than an array\n",
      "* Fill with `push_back()`/`insert()`\n",
      "* Good for random access elements\n",
      "\n",
      "```cpp\n",
      "\n",
      " #include <vector>\n",
      "\n",
      " std::vector<int> vi; // vector of integers\n",
      " std::vector<float> vf; // vector of floats\n",
      " std::vector<std::vector<int> > vv; //vector of int vectors\n",
      "``` \n"
     ]
    },
    {
     "cell_type": "code",
     "collapsed": false,
     "input": [
      "%%cpp -Wall\n",
      "\n",
      "#include <vector>\n",
      "#include <iostream>\n",
      "\n",
      "int main()\n",
      "{\n",
      "   std::vector<int> v;\n",
      "   for (int i = 0; i < 20; i++) {\n",
      "     v.push_back(i * 10);\n",
      "  }\n",
      "  std::cout << \"Size : \" << v.size() << \"\\n\";\n",
      "  std::cout << \"v[19] : \" << v[19] << '\\n';\n",
      "  return 0;\n",
      "}\n"
     ],
     "language": "python",
     "metadata": {
      "internals": {
       "frag_helper": "fragment_end",
       "frag_number": 23,
       "slide_helper": "subslide_end",
       "slide_type": "subslide"
      },
      "slide_helper": "subslide_end",
      "slideshow": {
       "slide_type": "subslide"
      }
     },
     "outputs": []
    },
    {
     "cell_type": "code",
     "collapsed": false,
     "input": [
      "%%cpp\n",
      "\n",
      "\n",
      "#include <vector>\n",
      "#include <iostream>\n",
      "\n",
      "int main()\n",
      "{\n",
      "  // CONSTRUCTOR :: Vector has 20 elements with the number '2'\n",
      "  std::vector<float> v(20, 2.0);\n",
      "  std::cout << \"Size : \" << v.size() << \"\\n\";\n",
      "  std::cout << \"v[19] : \" << v[19] << '\\n';\n",
      "  std::cout << \"-----\\n\";\n",
      "  for (int i = 0; i < 20; i++) {\n",
      "     v.push_back(i * 10.5);\n",
      "  }\n",
      "  std::cout << \"Size : \" << v.size() << \"\\n\";\n",
      "  std::cout << \"v[29] : \" << v[29] << '\\n';\n",
      "  return 0;\n",
      "}\n"
     ],
     "language": "python",
     "metadata": {
      "internals": {
       "frag_helper": "fragment_end",
       "frag_number": 23,
       "slide_helper": "subslide_end",
       "slide_type": "subslide"
      },
      "slide_helper": "slide_end",
      "slideshow": {
       "slide_type": "subslide"
      }
     },
     "outputs": []
    },
    {
     "cell_type": "markdown",
     "metadata": {
      "internals": {
       "frag_helper": "fragment_end",
       "frag_number": 23,
       "slide_helper": "subslide_end",
       "slide_type": "subslide"
      },
      "slide_helper": "subslide_end",
      "slideshow": {
       "slide_type": "slide"
      }
     },
     "source": [
      "# std::string\n",
      "\n",
      "* Automatic\n",
      "  * size allocation\n",
      "  * concatenation\n",
      "  * comparison\n",
      "\n",
      "```cpp\n",
      "#include <string>\n",
      "\n",
      "std::string s(\"Hello\"); // Create a string with the char[] \"Hello\";\n",
      "s += \" world\";          // Add \" \" to the end of string 's'\n",
      "std::cout << s << \" :-D \"\n",
      "\n",
      "if (s == \"Hello world\") {\n",
      " ...\n",
      "}\n",
      "```"
     ]
    },
    {
     "cell_type": "code",
     "collapsed": false,
     "input": [
      "%%cpp\n",
      "#include <string>\n",
      "#include <iostream>\n",
      "int main() {\n",
      " std::string s(\"Hello\"); // Create a string with the char[] \"Hello\";\n",
      " s += \" world\";          // Add \" \" to the end of string 's'\n",
      " std::cout << s << \" :-D\\n\";\n",
      " if (s != \"Hello world\") {\n",
      "   std::cout << \"EQUAL!\\n\";\n",
      " }\n",
      " std::cout << s.substr(1, 8) << \"\\n\";\n",
      " std::cout << s.substr(s.find('o')) << \"\\n\";\n",
      " return 0;\n",
      "}"
     ],
     "language": "python",
     "metadata": {
      "internals": {
       "frag_helper": "fragment_end",
       "frag_number": 23,
       "slide_helper": "subslide_end",
       "slide_type": "subslide"
      },
      "slide_helper": "slide_end",
      "slideshow": {
       "slide_type": "subslide"
      }
     },
     "outputs": []
    },
    {
     "cell_type": "markdown",
     "metadata": {
      "internals": {
       "frag_helper": "fragment_end",
       "frag_number": 23,
       "slide_helper": "subslide_end",
       "slide_type": "subslide"
      },
      "slide_helper": "subslide_end",
      "slideshow": {
       "slide_type": "slide"
      }
     },
     "source": [
      "# std::map\n",
      "\n",
      "* Associative array, requires 2 template types\n",
      "\n",
      "```cpp\n",
      "std::map<int, std::string> m; // Maps numbers to strings\n",
      "m[17] = \"Seventeen\";\n",
      "```"
     ]
    },
    {
     "cell_type": "code",
     "collapsed": false,
     "input": [
      "%%cpp\n",
      "#include <string>\n",
      "#include <map>\n",
      "#include <iostream>\n",
      "int main() {\n",
      "std::map<int, std::string> m; // Maps numbers to strings\n",
      "m[17] = \"Seventeen\";\n",
      "m[1] = \"One\";\n",
      "std::cout << \"m.size() == \" << m.size() << \"\\n\";\n",
      "std::cout << \"m[17] = '\" << m[17] << \"'\\n\";\n",
      "return 0;\n",
      "}"
     ],
     "language": "python",
     "metadata": {
      "internals": {
       "frag_helper": "fragment_end",
       "frag_number": 23,
       "slide_helper": "subslide_end",
       "slide_type": "subslide"
      },
      "slide_helper": "slide_end",
      "slideshow": {
       "slide_type": "subslide"
      }
     },
     "outputs": []
    },
    {
     "cell_type": "markdown",
     "metadata": {
      "internals": {
       "frag_helper": "fragment_end",
       "frag_number": 23,
       "slide_helper": "subslide_end",
       "slide_type": "subslide"
      },
      "slide_helper": "slide_end",
      "slideshow": {
       "slide_type": "slide"
      }
     },
     "source": [
      "# Many More!\n",
      "\n",
      "\n",
      "* std::list\n",
      "* std::set\n",
      "* std::queue\n",
      "* std::multimap\n",
      "* std::pair\n",
      "\n",
      "\n",
      "* std::complex\n",
      "* std::random"
     ]
    },
    {
     "cell_type": "markdown",
     "metadata": {
      "internals": {
       "frag_helper": "fragment_end",
       "frag_number": 23,
       "slide_helper": "subslide_end",
       "slide_type": "subslide"
      },
      "slide_helper": "subslide_end",
      "slideshow": {
       "slide_type": "slide"
      }
     },
     "source": [
      "# Classes\n",
      "\n",
      "* Grouped data (members) and functions (methods)\n",
      "* All functions have access to data\n",
      "* Data hiding-\n",
      "  * `public` : Everybody has access\n",
      "  * `protected` : Children have access\n",
      "  * `private`   : Only you have access\n",
      "\n",
      "```cpp\n",
      "class CLASSNAME {\n",
      "public:\n",
      "  CLASSNAME();      // Constructor\n",
      "  CLASSNAME(int x); // Constructor\n",
      "\n",
      "  void SayHi();      // Method\n",
      "  int GetX() const;  // Constant Method\n",
      "\n",
      "private:\n",
      "  int _x; // Private Member\n",
      "};\n",
      "```\n"
     ]
    },
    {
     "cell_type": "markdown",
     "metadata": {
      "internals": {
       "frag_helper": "fragment_end",
       "frag_number": 23,
       "slide_helper": "subslide_end",
       "slide_type": "subslide"
      },
      "slide_helper": "subslide_end",
      "slideshow": {
       "slide_type": "subslide"
      }
     },
     "source": [
      "* Define functions with double colon\n",
      "\n",
      "```cpp\n",
      "int CLASSNAME::GetX() {\n",
      "  return _x;\n",
      "}\n",
      "```"
     ]
    },
    {
     "cell_type": "markdown",
     "metadata": {
      "internals": {
       "frag_helper": "fragment_end",
       "frag_number": 23,
       "slide_helper": "subslide_end",
       "slide_type": "subslide"
      },
      "slide_helper": "subslide_end",
      "slideshow": {
       "slide_type": "subslide"
      }
     },
     "source": [
      "* Access the 'current' object using the `this` keyword\n",
      " * `this` is a pointer to the current object, and can be treated as such\n",
      "\n",
      "```cpp\n",
      "void SayHi() {\n",
      "   std::cout << \"the object at \" << this << \" says hi.\\n\";\n",
      "}\n",
      "```\n"
     ]
    },
    {
     "cell_type": "code",
     "collapsed": false,
     "input": [
      "%%cpp\n",
      "\n",
      "#include <iostream>\n",
      "\n",
      "// Class Declaration\n",
      "class A {\n",
      "public:\n",
      "  A();\n",
      "  void SayHello();\n",
      "\n",
      "private:\n",
      "  int _count; // Counts number of times 'A' says \"hello\"\n",
      "};\n",
      "\n",
      "// Constructor Definition\n",
      "A::A():\n",
      " _count(0); // initialize _count to zero\n",
      "{\n",
      "}\n",
      "\n",
      "void A::SayHello() {\n",
      "  std::cout << \"HELLO! (\" << _count++ << \", \"<< this <<\") \\n\";\n",
      "}\n",
      "\n",
      "int main() {\n",
      " A a;\n",
      " a.SayHello();\n",
      " a.SayHello();\n",
      " a.SayHello();\n",
      " return 0;\n",
      "}\n"
     ],
     "language": "python",
     "metadata": {
      "internals": {
       "frag_helper": "fragment_end",
       "frag_number": 23,
       "slide_helper": "subslide_end",
       "slide_type": "subslide"
      },
      "slide_helper": "slide_end",
      "slideshow": {
       "slide_type": "subslide"
      }
     },
     "outputs": []
    },
    {
     "cell_type": "markdown",
     "metadata": {
      "internals": {
       "frag_helper": "fragment_end",
       "frag_number": 23,
       "slide_helper": "subslide_end",
       "slide_type": "subslide"
      },
      "slide_helper": "subslide_end",
      "slideshow": {
       "slide_type": "slide"
      }
     },
     "source": [
      "# Inheritance\n",
      "\n",
      "* Children get `public`/`protected` members/methods of parent class\n",
      "* Specify parents at class declaration\n",
      "\n",
      "```cpp\n",
      "class Child : public Parent {\n",
      "\n",
      "...\n",
      "\n",
      "};\n",
      "```\n"
     ]
    },
    {
     "cell_type": "markdown",
     "metadata": {
      "internals": {
       "frag_helper": "fragment_end",
       "frag_number": 23,
       "slide_helper": "subslide_end",
       "slide_type": "subslide"
      },
      "slide_helper": "subslide_end",
      "slideshow": {
       "slide_type": "subslide"
      }
     },
     "source": [
      "# Multiple Inheritance\n",
      "\n",
      "* Can inherit members from multiple classes\n",
      "\n",
      "```cpp\n",
      "class Child : public Parent1, public Parent2 {\n",
      "\n",
      "...\n",
      "\n",
      "};\n",
      "```\n"
     ]
    },
    {
     "cell_type": "code",
     "collapsed": false,
     "input": [
      "%%cpp\n",
      "\n",
      "#include <iostream>\n",
      "\n",
      "class A {\n",
      "public:\n",
      "  A() {\n",
      "   std::cout << \"Constructing A @\" << this << \"\\n\";\n",
      "  }\n",
      "\n",
      "  void Print() {\n",
      "    std::cout << \"I am an 'A'\\n\";\n",
      "  }\n",
      "};\n",
      "\n",
      "class B : public A {\n",
      "public:\n",
      "  B() {\n",
      "   std::cout << \"Constructing B @\" << this << \"\\n\";\n",
      "  }\n",
      "};\n",
      "\n",
      "int main() {\n",
      " A a;\n",
      " B b;\n",
      "\n",
      " std::cout << \"---\\n\";\n",
      " a.Print(); // A::Print()\n",
      " b.Print(); // A::Print()\n",
      "\n",
      "//# A *c = (A*)&b;\n",
      "//# c->Print();\n",
      "\n",
      " return 0;\n",
      "}"
     ],
     "language": "python",
     "metadata": {
      "internals": {
       "frag_helper": "fragment_end",
       "frag_number": 23,
       "slide_helper": "subslide_end",
       "slide_type": "subslide"
      },
      "slide_helper": "slide_end",
      "slideshow": {
       "slide_type": "subslide"
      }
     },
     "outputs": []
    },
    {
     "cell_type": "markdown",
     "metadata": {
      "internals": {
       "frag_helper": "fragment_end",
       "frag_number": 23,
       "slide_helper": "subslide_end",
       "slide_type": "subslide"
      },
      "slide_helper": "subslide_end",
      "slideshow": {
       "slide_type": "slide"
      }
     },
     "source": [
      "# Abstract Classes\n",
      "\n",
      "* Sometimes you don't want to make an object from a class\n",
      " * Force developers to subclass\n",
      "* Use 'Pure Virtual Functions' to do this\n",
      "```cpp\n",
      "class Shape {\n",
      "public:\n",
      "   Shape();                  // constructor\n",
      "   virtual double Area()=0; // 'pure virtual' function\n",
      "};\n",
      "```"
     ]
    },
    {
     "cell_type": "markdown",
     "metadata": {
      "internals": {
       "frag_helper": "fragment_end",
       "frag_number": 23,
       "slide_helper": "subslide_end",
       "slide_type": "subslide"
      },
      "slide_helper": "subslide_end",
      "slideshow": {
       "slide_type": "subslide"
      }
     },
     "source": [
      "* User must subclass Shape to use it\n",
      "\n",
      "```cpp\n",
      "class Circle : public Shape {\n",
      "public:\n",
      "    Circle(double radius): _r(radius){};\n",
      "\n",
      "    double Area() {\n",
      "      return 3.1415 * _r * _r;\n",
      "    }\n",
      "\n",
      "protected:\n",
      "   double _r;\n",
      "};\n",
      "```"
     ]
    },
    {
     "cell_type": "code",
     "collapsed": false,
     "input": [
      "%%cpp\n",
      "#include <iostream>\n",
      "using namespace std;\n",
      "\n",
      "class Shape {\n",
      "public:\n",
      "    Shape(){};  // constructor\n",
      "    virtual double Area() = 0; // 'pure virtual' function\n",
      "};\n",
      "\n",
      "int main()\n",
      "{\n",
      "  Shape s;\n",
      "  return 0;\n",
      "}"
     ],
     "language": "python",
     "metadata": {
      "internals": {
       "frag_helper": "fragment_end",
       "frag_number": 23,
       "slide_helper": "subslide_end",
       "slide_type": "subslide"
      },
      "slide_helper": "subslide_end",
      "slideshow": {
       "slide_type": "subslide"
      }
     },
     "outputs": []
    },
    {
     "cell_type": "code",
     "collapsed": false,
     "input": [
      "%%cpp\n",
      "#include <iostream>\n",
      "using namespace std;\n",
      "\n",
      "class Shape {\n",
      "public:\n",
      "  Shape(){};                 // constructor\n",
      "  virtual double Area() = 0; // 'pure virtual' function\n",
      "};\n",
      "\n",
      "class Circle : public Shape {\n",
      "public:\n",
      "    Circle(double radius): _r(radius){};\n",
      "\n",
      "    double Area() {\n",
      "      return 3.1415 * _r * _r;\n",
      "    }\n",
      "\n",
      "protected:\n",
      "   double _r;\n",
      "};\n",
      "\n",
      "class Rectangle : public Shape {\n",
      "public:\n",
      "    Rectangle(double length, double width): _l(length), _w(width)\n",
      "    {\n",
      "     cout << \"Created rectangle with length=\" << _l \n",
      "                             << \" and width=\" << _w << \"\\n\";\n",
      "     };\n",
      "\n",
      "    double Area() {\n",
      "      return _l * _w;\n",
      "    }\n",
      "\n",
      "protected:\n",
      "   double _l;\n",
      "   double _w;\n",
      "};\n",
      "\n",
      "void PrintArea(Shape& s)\n",
      "{\n",
      "  std::cout << \"area == \" << s.Area() << endl;\n",
      "}\n",
      "\n",
      "int main()\n",
      "{\n",
      "  Rectangle r(5,10);\n",
      "  Circle c(25.);\n",
      "\n",
      "  PrintArea(r);\n",
      "  PrintArea(c);\n",
      "  \n",
      "   cout << \"---\\n\" << \"area == \" << r.Area() << endl;\n",
      "\n",
      "  return 0;\n",
      "}\n",
      "\n"
     ],
     "language": "python",
     "metadata": {
      "internals": {
       "frag_helper": "fragment_end",
       "frag_number": 23,
       "slide_helper": "subslide_end",
       "slide_type": "subslide"
      },
      "slide_helper": "slide_end",
      "slideshow": {
       "slide_type": "subslide"
      }
     },
     "outputs": []
    },
    {
     "cell_type": "code",
     "collapsed": false,
     "input": [
      "%%cpp\n",
      "#include <iostream>\n",
      "using namespace std;\n",
      "\n",
      "class Shape {\n",
      "public:\n",
      "  Shape(){};                 // constructor\n",
      "  virtual double Area() = 0; // 'pure virtual' function\n",
      "};\n",
      "\n",
      "class Circle : public Shape {\n",
      "public:\n",
      "    Circle(double radius): _r(radius){};\n",
      "\n",
      "    double Area() {\n",
      "      return 3.1415 * _r * _r;\n",
      "    }\n",
      "\n",
      "protected:\n",
      "   double _r;\n",
      "};\n",
      "\n",
      "int main()\n",
      "{\n",
      "  Circle c(25.);\n",
      "\n",
      "  cout << \"Circle area == \" << c.Area() << endl;\n",
      "  return 0;\n",
      "}\n",
      "\n"
     ],
     "language": "python",
     "metadata": {
      "internals": {
       "frag_helper": "fragment_end",
       "frag_number": 23,
       "slide_helper": "subslide_end",
       "slide_type": "subslide"
      },
      "slide_helper": "slide_end",
      "slideshow": {
       "slide_type": "subslide"
      }
     },
     "outputs": []
    },
    {
     "cell_type": "markdown",
     "metadata": {
      "internals": {
       "frag_helper": "fragment_end",
       "frag_number": 23,
       "slide_helper": "subslide_end",
       "slide_type": "subslide"
      },
      "slide_helper": "subslide_end",
      "slideshow": {
       "slide_type": "slide"
      }
     },
     "source": [
      "# Operators\n",
      "* Special functions in the class which allow programmers to use symbols like '+', '-'\n",
      "* `operatorXXX()`, where XXX is the symbol\n",
      "\n",
      "```cpp\n",
      "class A {\n",
      "protected:\n",
      " int _x;                 // protected integer _x\n",
      "public:\n",
      "  A():_x(0){};           // Default _x = 0\n",
      "  A(int i): _x(i) {};    // Construct with _x\n",
      "\n",
      "  A operator+(A& a) {    // ADDITION OPERATOR\n",
      "    return A(_x + a._x); // A+A\n",
      "  }\n",
      "  \n",
      "  A operator+(int i) {   // ADDITION OPERATOR\n",
      "    return A(_x + i);    // A + int\n",
      "  }\n",
      "\n",
      "  A& operator+=(int i) { // ADDITION/ASSIGNMENT\n",
      "    _x += i;             // A += int\n",
      "    return *this;\n",
      "  }\n",
      "  \n",
      "  void Print() {\n",
      "    std::cout << \"My _x == \" << _x << \"\\n\";\n",
      "  } \n",
      "\n",
      "};\n",
      "```"
     ]
    },
    {
     "cell_type": "code",
     "collapsed": false,
     "input": [
      "%%cpp\n",
      "\n",
      "#include <iostream>\n",
      "using namespace std;\n",
      "\n",
      "class A {\n",
      "public:\n",
      "  A():_x(0){};\n",
      "  A(int i): _x(i) {};\n",
      "\n",
      "\n",
      "  A operator+(A& a) {\n",
      "    return A(_x + a._x);\n",
      "  }\n",
      "  \n",
      "  A operator+(int i) {\n",
      "    return A(_x + i);\n",
      "  }\n",
      "\n",
      "  void operator+=(int i) {\n",
      "    _x += i;\n",
      "  }\n",
      "  \n",
      "  void Print() {\n",
      "    std::cout << \"My _x == \" << _x << \"\\n\";\n",
      "  } \n",
      "\n",
      "protected:\n",
      " int _x;\n",
      "};\n",
      "\n",
      "int main()\n",
      "{\n",
      "  A a;\n",
      "  a.Print();\n",
      "  a += 4;\n",
      "  a.Print();\n",
      "  A b(10), c = a + b;\n",
      "  b.Print();\n",
      "  c.Print();\n",
      "  return 0;\n",
      "}"
     ],
     "language": "python",
     "metadata": {
      "internals": {
       "frag_helper": "fragment_end",
       "frag_number": 23,
       "slide_helper": "subslide_end",
       "slide_type": "subslide"
      },
      "slide_helper": "slide_end",
      "slideshow": {
       "slide_type": "subslide"
      }
     },
     "outputs": []
    }
   ],
   "metadata": {}
  }
 ]
}