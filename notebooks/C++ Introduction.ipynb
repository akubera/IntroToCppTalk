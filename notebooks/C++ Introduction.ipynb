{
 "metadata": {
  "celltoolbar": "Slideshow",
  "name": "",
  "signature": "sha256:ccdad87471d32e4746a9eb10312d6f18a1aad2b1cab693b255b66ca9fd1ead22"
 },
 "nbformat": 3,
 "nbformat_minor": 0,
 "worksheets": [
  {
   "cells": [
    {
     "cell_type": "markdown",
     "metadata": {
      "internals": {
       "slide_type": "subslide"
      },
      "slideshow": {
       "slide_type": "slide"
      }
     },
     "source": [
      "# Introduction to C++ and ROOT\n",
      "\n",
      "### Andrew Kubera\n",
      "### Nov 19, 2014"
     ]
    },
    {
     "cell_type": "code",
     "collapsed": false,
     "input": [
      "%load_ext cppmagic\n"
     ],
     "language": "python",
     "metadata": {
      "internals": {
       "slide_helper": "subslide_end"
      },
      "slide_helper": "slide_end",
      "slideshow": {
       "slide_type": "skip"
      }
     },
     "outputs": []
    },
    {
     "cell_type": "markdown",
     "metadata": {
      "internals": {
       "slide_helper": "subslide_end",
       "slide_type": "subslide"
      },
      "slide_helper": "slide_end",
      "slideshow": {
       "slide_type": "slide"
      }
     },
     "source": [
      "# C++\n",
      "\n",
      "Object oriented programming language, extending C. "
     ]
    },
    {
     "cell_type": "markdown",
     "metadata": {
      "internals": {
       "slide_type": "subslide"
      },
      "slideshow": {
       "slide_type": "slide"
      }
     },
     "source": [
      "# Keywords\n",
      "\n",
      "###### C\n",
      "\n",
      "\n",
      "> auto   const     double  float  int       short   struct   unsigned\n",
      "> break  continue  else    for    long      signed  switch   void\n",
      "> case   default   enum    goto   register  sizeof  typedef  volatile\n",
      "> char   do        extern  if     return    static  union    while\n",
      "\n"
     ]
    },
    {
     "cell_type": "markdown",
     "metadata": {
      "internals": {
       "frag_number": 4,
       "slide_helper": "subslide_end"
      },
      "slide_helper": "slide_end",
      "slideshow": {
       "slide_type": "fragment"
      }
     },
     "source": [
      "###### C++\n",
      "\n",
      "\n",
      "> auto   const     double  float  int       short   struct   unsigned\n",
      "> break  continue  else    for    long      signed  switch   void\n",
      "> case   default   enum    goto   register  sizeof  typedef  volatile\n",
      "> char   do        extern  if     return    static  union    while\n",
      "\n",
      "> asm         dynamic_cast  namespace  reinterpret_cast  try\n",
      "> bool        explicit      mutable    static_cast       typeid\n",
      "> catch       false         operator   template          typename\n",
      "> class       friend        private    this              using\n",
      "> const_cast  inline        public     throw             virtual\n",
      "> new         delete        protected  true              wchar_t"
     ]
    },
    {
     "cell_type": "markdown",
     "metadata": {
      "internals": {
       "frag_helper": "fragment_end",
       "frag_number": 4,
       "slide_helper": "subslide_end",
       "slide_type": "subslide"
      },
      "slide_helper": "slide_end",
      "slideshow": {
       "slide_type": "slide"
      }
     },
     "source": [
      "# Compiling\n",
      "\n",
      "### GNU\n",
      "\n",
      "* gcc\n",
      "* g++\n",
      "\n",
      "### Clang/LLVM\n",
      "\n",
      "* clang\n",
      "* clang++\n",
      "\n",
      "### ROOT (CINT)\n",
      "\n",
      "* root &lt;filename&gt;++\n"
     ]
    },
    {
     "cell_type": "markdown",
     "metadata": {
      "internals": {
       "frag_helper": "fragment_end",
       "frag_number": 4,
       "slide_type": "subslide"
      },
      "slideshow": {
       "slide_type": "slide"
      }
     },
     "source": [
      "# C Example"
     ]
    },
    {
     "cell_type": "code",
     "collapsed": false,
     "input": [
      "%%cpp\n",
      "#include <stdio.h>\n",
      "int main() {\n",
      "  puts(\"Hello World.\");\n",
      "  return 0;\n",
      "}"
     ],
     "language": "python",
     "metadata": {
      "internals": {
       "frag_helper": "fragment_end",
       "frag_number": 7,
       "slide_helper": "subslide_end"
      },
      "slide_helper": "slide_end",
      "slideshow": {
       "slide_type": "fragment"
      }
     },
     "outputs": []
    },
    {
     "cell_type": "markdown",
     "metadata": {
      "internals": {
       "frag_helper": "fragment_end",
       "frag_number": 7,
       "slide_type": "subslide"
      },
      "slideshow": {
       "slide_type": "slide"
      }
     },
     "source": [
      "# C++ Example"
     ]
    },
    {
     "cell_type": "code",
     "collapsed": false,
     "input": [
      "%%cpp\n",
      "\n",
      "#include <cstdio>\n",
      "\n",
      "int main() {\n",
      "  puts(\"Hello World.\");\n",
      "  return 0;\n",
      "}"
     ],
     "language": "python",
     "metadata": {
      "internals": {
       "frag_helper": "fragment_end",
       "frag_number": 9,
       "slide_helper": "subslide_end"
      },
      "slide_helper": "slide_end",
      "slideshow": {
       "slide_type": "fragment"
      }
     },
     "outputs": []
    },
    {
     "cell_type": "markdown",
     "metadata": {
      "slideshow": {
       "slide_type": "slide"
      }
     },
     "source": [
      "# Pointers\n",
      "\n",
      "* Contain memory location of a variable.\n",
      "\n",
      "* Created with `TYPENAME *ptr`.\n",
      "* Get the memory location with `&VARIABLE_NAME`\n",
      "* Dereference with `*POINTER_NAME`.\n",
      "\n",
      "```cpp\n",
      "int a = 7, b = 9;\n",
      "int * ptr = &a; // ptr 'points' to a\n",
      "cout << a;    // 7\n",
      "cout << ptr;  // memory location (0x7fff5500e792)\n",
      "cout << *ptr; // 7\n",
      "*ptr = 12; // 'a' now equals 12\n",
      "```"
     ]
    },
    {
     "cell_type": "code",
     "collapsed": false,
     "input": [
      "%%cpp\n",
      "\n",
      "#include <iostream>\n",
      "using namespace std;\n",
      "int main() {\n",
      "int a = 7, b = 9;\n",
      "int * ptr = &a;\n",
      "cout << a << '\\n';\n",
      "cout << ptr << '\\n';\n",
      "cout << *ptr << '\\n';\n",
      "}"
     ],
     "language": "python",
     "metadata": {
      "slideshow": {
       "slide_type": "subslide"
      }
     },
     "outputs": []
    },
    {
     "cell_type": "code",
     "collapsed": false,
     "input": [
      "%%cpp\n",
      "\n",
      "void add_three(int x) {\n",
      " x += 3;\n",
      "}\n",
      "\n",
      "#include <iostream>\n",
      "using namespace std;\n",
      "int main() {\n",
      "  int a = 7;\n",
      "  cout << a << '\\n';\n",
      "  add_three(a);\n",
      "  cout << a << '\\n';\n",
      "}"
     ],
     "language": "python",
     "metadata": {
      "slideshow": {
       "slide_type": "subslide"
      }
     },
     "outputs": []
    },
    {
     "cell_type": "markdown",
     "metadata": {
      "slideshow": {
       "slide_type": "slide"
      }
     },
     "source": [
      "# Memory Management\n",
      "\n",
      "* `C : malloc(), calloc(), free() `   &#8592; System Calls \n",
      "* `C++: new, delete`   &#8592; Language keywords\n",
      "\n",
      "```cpp\n",
      "int *i = new int; // create integer in dynamic memory space (the 'heap')\n",
      "*i = 100;  // Set the value at memory position 'i' to 100\n",
      "\n",
      "int *a = new int[100]; // create 100 integers - size is figured out for you\n",
      "*(a + 3) = 8; // Set the FOURTH value from memory position 'i' to 8\n",
      "a[3] = 4;     // Set the same value to 3\n",
      "a[0] = 31415; // Set the FIRST value to 31415\n",
      "```"
     ]
    },
    {
     "cell_type": "code",
     "collapsed": false,
     "input": [
      "%%cpp\n",
      "#include <iostream>\n",
      "using namespace std;\n",
      "int main()\n",
      "{\n",
      "  int *a = new int;\n",
      "  cout << \"a : \" << a << ' ' << *a << \"\\n\";\n",
      "  a[0] = 100;\n",
      "  cout << \"a : \" << a << ' ' << *a << \"\\n\";\n",
      "\n",
      "  return 0;\n",
      "}"
     ],
     "language": "python",
     "metadata": {
      "slideshow": {
       "slide_type": "subslide"
      }
     },
     "outputs": []
    },
    {
     "cell_type": "markdown",
     "metadata": {
      "internals": {
       "frag_helper": "fragment_end",
       "frag_number": 9,
       "slide_helper": "subslide_end",
       "slide_type": "subslide"
      },
      "slide_helper": "slide_end",
      "slideshow": {
       "slide_type": "slide"
      }
     },
     "source": [
      "# Object Oriented Programming\n",
      "\n",
      "#### Why?\n",
      "\n",
      "* Group data and functions together into classes.\n",
      "* Create objects from classes, each with their own version of the data\n",
      "* Classes can inherit data/functions from 'parent' classes"
     ]
    },
    {
     "cell_type": "markdown",
     "metadata": {
      "internals": {
       "frag_helper": "fragment_end",
       "frag_number": 9,
       "slide_type": "subslide"
      },
      "slideshow": {
       "slide_type": "slide"
      }
     },
     "source": [
      "# Object Oriented Programming\n",
      "\n",
      "### Principles\n",
      "\n",
      "* Encapsulation\n",
      " * Objects 'hide' data from rest of program (members)\n",
      " * Only they can change their state through use of functions or 'methods' \n"
     ]
    },
    {
     "cell_type": "markdown",
     "metadata": {
      "internals": {
       "frag_helper": "fragment_end",
       "frag_number": 12
      },
      "slideshow": {
       "slide_type": "fragment"
      }
     },
     "source": [
      "* Inheritance\n",
      " * Reuse classes\n",
      " * Start with general classes and become more specific \n",
      " * Less programming is required when adding functions to complex systems"
     ]
    },
    {
     "cell_type": "markdown",
     "metadata": {
      "internals": {
       "frag_helper": "fragment_end",
       "frag_number": 13,
       "slide_helper": "subslide_end"
      },
      "slide_helper": "slide_end",
      "slideshow": {
       "slide_type": "fragment"
      }
     },
     "source": [
      "* Polymorphism\n",
      " * Different types can 'behave' the same \n",
      "  * Printing out a description\n",
      "  * Finding area of a shape :: `area(circle)` and `area(rectangle)`\n",
      "  * Multiplication: \n",
      "   * `scalar * scalar`\n",
      "   * `vector * vector`\n",
      "   * `scalar * vector`\n",
      " * Child classes may behave as their parent class\n"
     ]
    },
    {
     "cell_type": "markdown",
     "metadata": {
      "internals": {
       "frag_helper": "fragment_end",
       "frag_number": 13,
       "slide_type": "subslide"
      },
      "slideshow": {
       "slide_type": "slide"
      }
     },
     "source": [
      "Functions can have the same name with different arguments"
     ]
    },
    {
     "cell_type": "code",
     "collapsed": false,
     "input": [
      "%%cpp\n",
      "#include <cstdio>\n",
      "using namespace std;\n",
      "\n",
      "void foo(int a) {\n",
      "  printf(\"int: %d\\n\", a);\n",
      "}\n",
      "void foo(float a) {\n",
      "  printf(\"float: %f\\n\", a);\n",
      "}\n",
      "\n",
      "int main() {\n",
      "    foo(10);\n",
      "    foo(10.0);\n",
      "    return 0;\n",
      "}"
     ],
     "language": "python",
     "metadata": {
      "internals": {
       "frag_helper": "fragment_end",
       "frag_number": 15
      },
      "slideshow": {
       "slide_type": "fragment"
      }
     },
     "outputs": []
    },
    {
     "cell_type": "code",
     "collapsed": false,
     "input": [
      "%%cpp \n",
      "#include <cstdio>\n",
      "using namespace std;\n",
      "\n",
      "void foo(int a) {\n",
      "  printf(\"int: %d\\n\", a);\n",
      "}\n",
      "\n",
      "void foo(float a) {\n",
      "  printf(\"float: %f\\n\", a);\n",
      "}\n",
      "\n",
      "void foo(double a) {\n",
      "  printf(\"double: %f\\n\", a);\n",
      "}\n",
      "\n",
      "int main() {\n",
      "    foo(10);\n",
      "    foo(10.0);\n",
      "    return 0;\n",
      "}"
     ],
     "language": "python",
     "metadata": {
      "internals": {
       "frag_helper": "fragment_end",
       "frag_number": 15,
       "slide_helper": "subslide_end"
      },
      "slide_helper": "slide_end",
      "slideshow": {
       "slide_type": "-"
      }
     },
     "outputs": []
    },
    {
     "cell_type": "markdown",
     "metadata": {
      "internals": {
       "frag_helper": "fragment_end",
       "frag_number": 15,
       "slide_helper": "subslide_end",
       "slide_type": "subslide"
      },
      "slide_helper": "subslide_end",
      "slideshow": {
       "slide_type": "slide"
      }
     },
     "source": [
      "# Streams\n",
      "\n",
      "* C++ provides 3 standard 'console' streams\n",
      " * `std::cout` - standard output\n",
      " * `std::cin ` - standard input\n",
      " * `std::cerr` - error output\n",
      " * \\#include &lt;iostream&gt;\n",
      "* Streams use polymorphism to allow printing of different types.\n",
      "* Different kinds of streams\n",
      " * File streams : `#include <fstream>`\n",
      " * String streams : `#include <sstream>`\n",
      "* Use new 'stream operators': `>>` and `<<`, think things flowing into and out of the objects\n",
      "\n",
      "```cpp\n",
      "int *ptr;\n",
      "std::cout << \"one \" << ptr << \" \" << *ptr << \" \" << 3;\n",
      "int i;\n",
      "std::cout << \"Please type an integer: \";\n",
      "std::cin >> i;\n",
      "\n",
      "if (i < 100) { std::cerr << \"Error, number too small!\\n\"; exit(1); }\n",
      "```"
     ]
    },
    {
     "cell_type": "code",
     "collapsed": false,
     "input": [
      "%%cpp\n",
      "\n",
      "#include <iostream>\n",
      "#include <iomanip>\n",
      "\n",
      "int main()\n",
      "{\n",
      "  int i = 9;\n",
      "  std::cout << \"one \" << 2 << ' ' << 3.0 << ' ' << &i << ' ' << i << \"\\n\";\n",
      "  return 0;\n",
      "}\n"
     ],
     "language": "python",
     "metadata": {
      "internals": {
       "frag_helper": "fragment_end",
       "frag_number": 15,
       "slide_helper": "subslide_end",
       "slide_type": "subslide"
      },
      "slide_helper": "slide_end",
      "slideshow": {
       "slide_type": "subslide"
      }
     },
     "outputs": []
    },
    {
     "cell_type": "markdown",
     "metadata": {
      "internals": {
       "frag_helper": "fragment_end",
       "frag_number": 15,
       "slide_helper": "subslide_end",
       "slide_type": "subslide"
      },
      "slide_helper": "subslide_end",
      "slideshow": {
       "slide_type": "slide"
      }
     },
     "source": [
      "# Templates\n",
      "\n",
      "Templates provide automamtic polymorphism by demanding that functions or classes act on certain data types. "
     ]
    },
    {
     "cell_type": "code",
     "collapsed": false,
     "input": [
      "%%cpp\n",
      "\n",
      "#include <iostream>\n",
      "using namespace std;\n",
      "\n",
      "template <typename T>\n",
      "void foo(T x) {\n",
      "  cout << std::fixed << \"[foo] \" << x << '\\n';\n",
      "}\n",
      "\n",
      "int main() {\n",
      " foo<char>(78);\n",
      " return 0;\n",
      "}"
     ],
     "language": "python",
     "metadata": {
      "internals": {
       "frag_helper": "fragment_end",
       "frag_number": 15,
       "slide_helper": "subslide_end",
       "slide_type": "subslide"
      },
      "slide_helper": "slide_end",
      "slideshow": {
       "slide_type": "subslide"
      }
     },
     "outputs": []
    },
    {
     "cell_type": "markdown",
     "metadata": {
      "internals": {
       "frag_helper": "fragment_end",
       "frag_number": 15,
       "slide_helper": "subslide_end",
       "slide_type": "subslide"
      },
      "slide_helper": "subslide_end",
      "slideshow": {
       "slide_type": "slide"
      }
     },
     "source": [
      "# Standard Template Library\n",
      "\n",
      "C++ comes with standard containers and algorithms which make a lot of things easier."
     ]
    },
    {
     "cell_type": "markdown",
     "metadata": {
      "internals": {
       "frag_helper": "fragment_end",
       "frag_number": 15,
       "slide_helper": "subslide_end",
       "slide_type": "subslide"
      },
      "slide_helper": "subslide_end",
      "slideshow": {
       "slide_type": "subslide"
      }
     },
     "source": [
      "# Vectors\n",
      "\n",
      "* Not mathematical vectors!\n",
      "* Automatically allocates memory and stores whatever type is in template\n",
      "* Fill with push_back/push_front\n",
      "* Good for random access elements\n",
      "\n",
      "```cpp\n",
      "\n",
      " #include <vector>\n",
      "\n",
      " std::vector<int> vi; // vector of integers\n",
      " std::vector<float> vf; // vector of floats\n",
      " std::vector<std::vector<int> > vv; //vector of int vectors\n",
      "``` \n"
     ]
    },
    {
     "cell_type": "code",
     "collapsed": false,
     "input": [
      "%%cpp -Wall\n",
      "\n",
      "#include <vector>\n",
      "#include <iostream>\n",
      "\n",
      "int main()\n",
      "{\n",
      "   std::vector<int> v;\n",
      "   for (int i = 0; i < 20; i++) {\n",
      "     v.push_back(i * 10);\n",
      "  }\n",
      "  std::cout << \"Size : \" << v.size() << \"\\n\";\n",
      "  std::cout << \"v[19] : \" << v[19] << '\\n';\n",
      "  return 0;\n",
      "}\n"
     ],
     "language": "python",
     "metadata": {
      "internals": {
       "frag_helper": "fragment_end",
       "frag_number": 15,
       "slide_type": "subslide"
      },
      "slideshow": {
       "slide_type": "subslide"
      }
     },
     "outputs": []
    },
    {
     "cell_type": "code",
     "collapsed": false,
     "input": [
      "%%cpp\n",
      "\n",
      "\n",
      "#include <vector>\n",
      "#include <iostream>\n",
      "\n",
      "int main()\n",
      "{\n",
      "  // CONSTRUCTOR :: Vector has 20 elements with the number '2'\n",
      "  std::vector<float> v(20, 2);\n",
      "  std::cout << \"Size : \" << v.size() << \"\\n\";\n",
      "  std::cout << \"v[19] : \" << v[19] << '\\n';\n",
      "  std::cout << \"-----\\n\";\n",
      "  for (int i = 0; i < 20; i++) {\n",
      "     v.push_back(i * 10.5);\n",
      "  }\n",
      "  std::cout << \"Size : \" << v.size() << \"\\n\";\n",
      "  std::cout << \"v[29] : \" << v[29] << '\\n';\n",
      "  return 0;\n",
      "}\n"
     ],
     "language": "python",
     "metadata": {},
     "outputs": []
    },
    {
     "cell_type": "code",
     "collapsed": false,
     "input": [
      "%%cpp\n",
      "\n",
      "#include <iostream>\n",
      "using namespace std;\n",
      "\n",
      "int main()\n",
      "{\n",
      "  int x;\n",
      "}\n"
     ],
     "language": "python",
     "metadata": {
      "internals": {
       "frag_helper": "fragment_end",
       "frag_number": 15,
       "slide_helper": "subslide_end"
      },
      "slide_helper": "slide_end",
      "slideshow": {
       "slide_type": "subslide"
      }
     },
     "outputs": []
    },
    {
     "cell_type": "markdown",
     "metadata": {
      "slideshow": {
       "slide_type": "slide"
      }
     },
     "source": [
      "# String\n",
      "\n",
      "* Automatic size allocation\n",
      "\n",
      "```cpp\n",
      "#include <string>\n",
      "\n",
      "std::string s(\"Hello\"); // Create a string with the char[] \"Hello\";\n",
      "s += \" world\";          // Add \" \" to the end of string 's'\n",
      "std::cout << s << \" :-D \"\n",
      "```"
     ]
    },
    {
     "cell_type": "code",
     "collapsed": false,
     "input": [
      "%%cpp\n",
      "#include <string>\n",
      "#include <iostream>\n",
      "int main() {\n",
      "std::string s(\"Hello\"); // Create a string with the char[] \"Hello\";\n",
      "s += \" world\";          // Add \" \" to the end of string 's'\n",
      "std::cout << s << \" :-D\\n\";\n",
      "std::cout << s.substr(1, 8) << \"\\n\";\n",
      "std::cout << s.substr(s.find('o')) << \"\\n\";\n",
      "return 0;}"
     ],
     "language": "python",
     "metadata": {
      "slideshow": {
       "slide_type": "subslide"
      }
     },
     "outputs": []
    },
    {
     "cell_type": "markdown",
     "metadata": {
      "slideshow": {
       "slide_type": "slide"
      }
     },
     "source": [
      "# Map\n",
      "\n",
      "* Associative array, requires 2 template types\n",
      "\n",
      "```cpp\n",
      "std::map<int, std::string> m; // Maps numbers to strings\n",
      "m[17] = \"Seventeen\";\n",
      "```"
     ]
    },
    {
     "cell_type": "code",
     "collapsed": false,
     "input": [
      "%%cpp\n",
      "#include <string>\n",
      "#include <map>\n",
      "#include <iostream>\n",
      "int main() {\n",
      "std::map<int, std::string> m; // Maps numbers to strings\n",
      "m[17] = \"Seventeen\";\n",
      "m[1] = \"One\";\n",
      "std::cout << \"m.size() == \" << m.size() << \"\\n\";\n",
      "std::cout << \"m[17] = '\" << m[17] << \"'\\n\";\n",
      "return 0;\n",
      "}"
     ],
     "language": "python",
     "metadata": {},
     "outputs": []
    },
    {
     "cell_type": "markdown",
     "metadata": {
      "slideshow": {
       "slide_type": "slide"
      }
     },
     "source": [
      "# Many More!\n",
      "\n",
      "\n",
      "* std::list\n",
      "* std::set\n",
      "* std::queue\n",
      "* std::multimap\n",
      "* std::pair\n",
      "\n",
      "\n",
      "* std::complex\n",
      "* std::random"
     ]
    },
    {
     "cell_type": "markdown",
     "metadata": {
      "internals": {
       "frag_helper": "fragment_end",
       "frag_number": 15,
       "slide_helper": "subslide_end",
       "slide_type": "subslide"
      },
      "slide_helper": "slide_end",
      "slideshow": {
       "slide_type": "slide"
      }
     },
     "source": [
      "# Classes\n",
      "\n",
      "* Grouped data (members) and functions (methods)\n",
      "* All functions have access to data\n",
      "\n",
      "```cpp\n",
      "class CLASSNAME {\n",
      "public:\n",
      "  CLASSNAME();      // Constructor\n",
      "  CLASSNAME(int x); // Constructor\n",
      "\n",
      "  void SayHi();      // Method\n",
      "  int GetX() const;  // Constant Method\n",
      "\n",
      "private:\n",
      "  int _x; // Private Member\n",
      "};\n",
      "```\n"
     ]
    },
    {
     "cell_type": "markdown",
     "metadata": {
      "slideshow": {
       "slide_type": "fragment"
      }
     },
     "source": [
      "* Define functions with double colon\n",
      "\n",
      "```cpp\n",
      "int CLASSNAME::GetX() {\n",
      "  return _x;\n",
      "}\n",
      "```"
     ]
    },
    {
     "cell_type": "markdown",
     "metadata": {
      "slideshow": {
       "slide_type": "fragment"
      }
     },
     "source": [
      "* Access the 'current' object using the `this` keyword\n",
      " * `this` is a pointer to the current object, and can be treated as such\n",
      "\n",
      "```cpp\n",
      "void SayHi() {\n",
      "   std::cout << \"the object at \" << this << \" says hi.\\n\";\n",
      "}\n",
      "```\n"
     ]
    },
    {
     "cell_type": "code",
     "collapsed": false,
     "input": [
      "%%cpp\n",
      "\n",
      "#include <iostream>\n",
      "\n",
      "class A {\n",
      "public:\n",
      "  A();\n",
      "  void SayHello();\n",
      "\n",
      "private:\n",
      "  int _count; // Counts number of times A says \"hello\"\n",
      "};\n",
      "\n",
      "// Constructor\n",
      "A::A():\n",
      " _count(0) // initialize _count to zero\n",
      "{\n",
      "}\n",
      "\n",
      "void A::SayHello() {\n",
      "  std::cout << \"HELLO! (\" << _count++ << \", \"<< this <<\") \\n\";\n",
      "}\n",
      "\n",
      "int main() {\n",
      " A a;\n",
      " a.SayHello();\n",
      " a.SayHello();\n",
      " a.SayHello();\n",
      " return 0;\n",
      "}\n"
     ],
     "language": "python",
     "metadata": {
      "internals": {
       "frag_helper": "fragment_end",
       "frag_number": 15,
       "slide_type": "subslide"
      },
      "slideshow": {
       "slide_type": "slide"
      }
     },
     "outputs": []
    },
    {
     "cell_type": "code",
     "collapsed": false,
     "input": [
      "%%cpp\n",
      "\n",
      "#include <iostream>\n",
      "\n",
      "class A {\n",
      "public:\n",
      "  A() {\n",
      "   std::cout << \"Constructing A @\" << this << \"\\n\";\n",
      "  }\n",
      "\n",
      "  void Print() {\n",
      "    std::cout << \"I am an 'A'\\n\";\n",
      "  }\n",
      "};\n",
      "\n",
      "class B : public A {\n",
      "public:\n",
      "  B() {\n",
      "   std::cout << \"Constructing B @\" << this << \"\\n\";\n",
      "  }\n",
      "  void Print() {\n",
      "    std::cout << \"I am a 'B' ;-)\";\n",
      "  }\n",
      "};\n",
      "\n",
      "int main() {\n",
      " A a;\n",
      " B b;\n",
      " std::cout << \"---\\n\";\n",
      " A *c = (A*)&b;\n",
      " c->Print();\n",
      "\n",
      " return 0;\n",
      "}"
     ],
     "language": "python",
     "metadata": {
      "internals": {
       "frag_helper": "fragment_end",
       "frag_number": 15,
       "slide_helper": "subslide_end"
      },
      "slide_helper": "slide_end",
      "slideshow": {
       "slide_type": "slide"
      }
     },
     "outputs": []
    },
    {
     "cell_type": "markdown",
     "metadata": {
      "slideshow": {
       "slide_type": "slide"
      }
     },
     "source": [
      "# Abstract Classes\n",
      "\n",
      "* Sometimes you don't want to make an object from a class\n",
      " * Force developers to subclass\n",
      "* Use 'Pure Virtual Functions' to do this\n",
      "```cpp\n",
      "class Shape {\n",
      "public:\n",
      "    Shape();           // constructor\n",
      "    double Area() = 0; // 'pure virtual' function\n",
      "};\n",
      "```"
     ]
    },
    {
     "cell_type": "markdown",
     "metadata": {
      "slideshow": {
       "slide_type": "fragment"
      }
     },
     "source": [
      "* User must subclass Shape to use it\n",
      "\n",
      "```cpp\n",
      "class Circle : public Shape {\n",
      "public:\n",
      "    Circle(double radius): _r(radius){};\n",
      "\n",
      "    double Area() {\n",
      "      return 3.1415 * _r * _r;\n",
      "    }\n",
      "\n",
      "protected:\n",
      "   double _r;\n",
      "};\n",
      "```"
     ]
    },
    {
     "cell_type": "code",
     "collapsed": false,
     "input": [
      "%%cpp\n",
      "#include <iostream>\n",
      "using namespace std;\n",
      "\n",
      "class Shape {\n",
      "public:\n",
      "    Shape(){};  // constructor\n",
      "    virtual double Area() = 0; // 'pure virtual' function\n",
      "};\n",
      "\n",
      "int main()\n",
      "{\n",
      "  Shape s;\n",
      "  return 0;\n",
      "}"
     ],
     "language": "python",
     "metadata": {
      "slideshow": {
       "slide_type": "subslide"
      }
     },
     "outputs": []
    },
    {
     "cell_type": "code",
     "collapsed": false,
     "input": [
      "%%cpp\n",
      "#include <iostream>\n",
      "using namespace std;\n",
      "\n",
      "class Shape {\n",
      "public:\n",
      "    Shape(){};           // constructor\n",
      "    virtual double Area() = 0; // 'pure virtual' function\n",
      "};\n",
      "\n",
      "class Circle : public Shape {\n",
      "public:\n",
      "    Circle(double radius): _r(radius){};\n",
      "\n",
      "    double Area() {\n",
      "      return 3.1415 * _r * _r;\n",
      "    }\n",
      "\n",
      "protected:\n",
      "   double _r;\n",
      "};\n",
      "\n",
      "class Rectangle : public Shape {\n",
      "public:\n",
      "    Rectangle(double length, double width): _l(length), _w(width)\n",
      "    { cout << \"Created rectangle with length=\" << _l << \" and width=\" << _w << \"\\n\"; };\n",
      "\n",
      "    double Area() {\n",
      "      return _l * _w;\n",
      "    }\n",
      "\n",
      "protected:\n",
      "   double _l;\n",
      "   double _w;\n",
      "};\n",
      "\n",
      "void PrintArea(Shape& s)\n",
      "{\n",
      "  std::cout << \"area == \" << s.Area() << endl;\n",
      "}\n",
      "\n",
      "int main()\n",
      "{\n",
      "  Rectangle r(5,10);\n",
      "  Circle c(25.f);\n",
      "\n",
      "  PrintArea(r);\n",
      "  PrintArea(c);\n",
      "  \n",
      "   cout << \"---\\n\" << \"area == \" << r.Area() << endl;\n",
      "\n",
      "  return 0;\n",
      "}\n",
      "\n"
     ],
     "language": "python",
     "metadata": {
      "slideshow": {
       "slide_type": "subslide"
      }
     },
     "outputs": [
      {
       "output_type": "stream",
       "stream": "stdout",
       "text": [
        "Created rectangle with length=5 and width=10\n",
        "area == 50\n",
        "area == 1963.44\n",
        "---\n",
        "area == 50\n",
        "\n"
       ]
      }
     ],
     "prompt_number": 174
    },
    {
     "cell_type": "markdown",
     "metadata": {},
     "source": [
      "# Operators\n",
      "* Special functions in the class which allow programmers to use symbols like '+', '-'\n",
      "* `operatorXXX()`, where XXX is the symbol\n",
      "\n",
      "```cpp\n",
      "class A {\n",
      "public:\n",
      "  A():_x(0){};\n",
      "  A(int i): _x(i) {};\n",
      "\n",
      "\n",
      "  A operator+(A& a) {\n",
      "    return A(_x + a._x);\n",
      "  }\n",
      "  \n",
      "  A operator+(int i) {\n",
      "    return A(_x + i);\n",
      "  }\n",
      "\n",
      "  A& operator+=(int i) {\n",
      "    _x += i;\n",
      "    return *this;\n",
      "  }\n",
      "  \n",
      "  void Print() {\n",
      "    std::cout << \"My _x == \" << _x << \"\\n\";\n",
      "  } \n",
      "\n",
      "protected:\n",
      " int _x;\n",
      "};\n",
      "```"
     ]
    },
    {
     "cell_type": "code",
     "collapsed": false,
     "input": [
      "%%cpp\n",
      "\n",
      "#include <iostream>\n",
      "using namespace std;\n",
      "\n",
      "class A {\n",
      "public:\n",
      "  A():_x(0){};\n",
      "  A(int i): _x(i) {};\n",
      "\n",
      "\n",
      "  A operator+(A& a) {\n",
      "    return A(_x + a._x);\n",
      "  }\n",
      "  \n",
      "  A operator+(int i) {\n",
      "    return A(_x + i);\n",
      "  }\n",
      "\n",
      "  void operator+=(int i) {\n",
      "    _x += i;\n",
      "  }\n",
      "  \n",
      "  void Print() {\n",
      "    std::cout << \"My _x == \" << _x << \"\\n\";\n",
      "  } \n",
      "\n",
      "protected:\n",
      " int _x;\n",
      "};\n",
      "\n",
      "int main()\n",
      "{\n",
      "  A a;\n",
      "  a.Print();\n",
      "  a += 4;\n",
      "  a.Print();\n",
      "  A b(10), c = a + b;\n",
      "  b.Print();\n",
      "  c.Print();\n",
      "  return 0;\n",
      "}"
     ],
     "language": "python",
     "metadata": {},
     "outputs": [
      {
       "output_type": "stream",
       "stream": "stdout",
       "text": [
        "My _x == 0\n",
        "My _x == 4\n",
        "My _x == 10\n",
        "My _x == 14\n",
        "\n"
       ]
      }
     ],
     "prompt_number": 161
    }
   ],
   "metadata": {}
  }
 ]
}