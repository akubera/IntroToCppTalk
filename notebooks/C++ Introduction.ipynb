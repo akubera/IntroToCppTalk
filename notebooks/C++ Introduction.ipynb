{
 "metadata": {
  "name": "",
  "signature": "sha256:2fd90186b030e68e757f6c5fd842f8fda797a7ba5851b8681423186572f9e5fa"
 },
 "nbformat": 3,
 "nbformat_minor": 0,
 "worksheets": [
  {
   "cells": [
    {
     "cell_type": "code",
     "collapsed": false,
     "input": [
      "%load_ext cppmagic\n"
     ],
     "language": "python",
     "metadata": {
      "internals": {
       "frag_helper": "fragment_end",
       "frag_number": 1,
       "slide_helper": "subslide_end",
       "slide_type": "subslide"
      },
      "slide_helper": "slide_end",
      "slideshow": {
       "slide_type": "slide"
      }
     },
     "outputs": [],
     "prompt_number": 1
    },
    {
     "cell_type": "markdown",
     "metadata": {
      "internals": {
       "frag_helper": "fragment_end",
       "frag_number": 1,
       "slide_helper": "subslide_end",
       "slide_type": "subslide"
      },
      "slide_helper": "slide_end",
      "slideshow": {
       "slide_type": "slide"
      }
     },
     "source": [
      "\n",
      "# Introduction to C++\n",
      "\n",
      "### Andrew Kubera\n",
      "### Nov 19, 2014"
     ]
    },
    {
     "cell_type": "markdown",
     "metadata": {
      "internals": {
       "frag_helper": "fragment_end",
       "frag_number": 1,
       "slide_helper": "subslide_end",
       "slide_type": "subslide"
      },
      "slide_helper": "slide_end",
      "slideshow": {
       "slide_type": "slide"
      }
     },
     "source": [
      "# C++\n",
      "\n",
      "* Object oriented programming language, extending C\n",
      " * Most C programs are valid C++ programs\n",
      "* Developed by Bjarne Stroustrup at Bell Labs ~1979\n",
      "* The plus-plus represents the \"iteration\" of C\n",
      "* Still evolving : new standards C++11/C++14"
     ]
    },
    {
     "cell_type": "markdown",
     "metadata": {
      "internals": {
       "frag_helper": "fragment_end",
       "frag_number": 1,
       "slide_helper": "subslide_end",
       "slide_type": "subslide"
      },
      "slide_helper": "subslide_end",
      "slideshow": {
       "slide_type": "slide"
      }
     },
     "source": [
      "# Keywords\n",
      "\n",
      "###### C\n",
      "\n",
      "> int double  float short long  char\n",
      "> struct enum union void signed unsigned\n",
      "\n",
      "> auto const extern static volatile\n",
      "\n",
      "> if else switch case\n",
      "\n",
      "> for while do continue break\n",
      "\n",
      "> default goto register sizeof typedef return\n",
      "\n",
      "count : 32\n"
     ]
    },
    {
     "cell_type": "markdown",
     "metadata": {
      "internals": {
       "frag_helper": "fragment_end",
       "frag_number": 1,
       "slide_helper": "subslide_end",
       "slide_type": "subslide"
      },
      "slide_helper": "subslide_end",
      "slideshow": {
       "slide_type": "subslide"
      }
     },
     "source": [
      "###### C++\n",
      "\n",
      "\n",
      "> int double  float short long  char\n",
      "> struct enum union void signed unsigned\n",
      "\n",
      "> auto const extern static volatile\n",
      "\n",
      "> if else switch case\n",
      "\n",
      "> for while do continue break\n",
      "\n",
      "> default goto register sizeof typedef return\n",
      "\n",
      "---\n",
      "> bool true false wchar_t\n",
      "\n",
      "> class namespace this\n",
      "\n",
      "> new delete\n",
      "\n",
      "> try catch throw\n",
      "\n",
      "> public protected private\n",
      "\n",
      "> dynamic_cast    reinterpret_cast const_cast static_cast\n",
      "\n",
      "> asm          explicit      mutable           typeid\n",
      "> operator   template          typename\n",
      "> friend using inline virtual\n",
      "\n",
      "count : 62"
     ]
    },
    {
     "cell_type": "markdown",
     "metadata": {
      "internals": {
       "frag_helper": "fragment_end",
       "frag_number": 1,
       "slide_helper": "subslide_end",
       "slide_type": "subslide"
      },
      "slide_helper": "slide_end",
      "slideshow": {
       "slide_type": "subslide"
      }
     },
     "source": [
      "###### python\n",
      "\n",
      "> if elif else\n",
      "\n",
      "> return yield try except finally raise \n",
      "\n",
      "> and or not is in with as\n",
      "\n",
      "> import from \n",
      "\n",
      "> for while continue break\n",
      "\n",
      "> del \n",
      "> class def lambda \n",
      "\n",
      "> return  global \n",
      "> assert pass print exec\n",
      "\n",
      "count : 32\n",
      "\n"
     ]
    },
    {
     "cell_type": "markdown",
     "metadata": {
      "internals": {
       "frag_helper": "fragment_end",
       "frag_number": 1,
       "slide_helper": "subslide_end",
       "slide_type": "subslide"
      },
      "slide_helper": "slide_end",
      "slideshow": {
       "slide_type": "slide"
      }
     },
     "source": [
      "# Compiling\n",
      "\n",
      "### GNU\n",
      "\n",
      "* gcc\n",
      "* g++\n",
      "\n",
      "### Clang/LLVM\n",
      "\n",
      "* clang\n",
      "* clang++\n",
      "\n",
      "### ROOT (CINT)\n",
      "\n",
      "* root &lt;filename&gt;+\n"
     ]
    },
    {
     "cell_type": "markdown",
     "metadata": {
      "internals": {
       "frag_helper": "fragment_end",
       "frag_number": 1,
       "slide_type": "subslide"
      },
      "slideshow": {
       "slide_type": "slide"
      }
     },
     "source": [
      "# C Example"
     ]
    },
    {
     "cell_type": "code",
     "collapsed": false,
     "input": [
      "%%cpp\n",
      "\n",
      "#include <stdio.h>\n",
      "int main() {\n",
      "  puts(\"Hello World\");\n",
      "  return 0;\n",
      "}"
     ],
     "language": "python",
     "metadata": {
      "internals": {
       "frag_helper": "fragment_end",
       "frag_number": 8,
       "slide_helper": "subslide_end"
      },
      "slide_helper": "slide_end",
      "slideshow": {
       "slide_type": "fragment"
      }
     },
     "outputs": [
      {
       "output_type": "stream",
       "stream": "stdout",
       "text": [
        "Hello World\n",
        "\n"
       ]
      }
     ],
     "prompt_number": 2
    },
    {
     "cell_type": "markdown",
     "metadata": {
      "internals": {
       "frag_helper": "fragment_end",
       "frag_number": 8,
       "slide_helper": "subslide_end",
       "slide_type": "subslide"
      },
      "slide_helper": "slide_end",
      "slideshow": {
       "slide_type": "slide"
      }
     },
     "source": [
      "# C++ Example"
     ]
    },
    {
     "cell_type": "code",
     "collapsed": false,
     "input": [
      "%%cpp\n",
      "\n",
      "#include <cstdio>\n",
      "\n",
      "int main() {\n",
      "  for (int i = 0; i < 3; i++)\n",
      "  puts(\"Hello World\");\n",
      "  return 0;\n",
      "}\n"
     ],
     "language": "python",
     "metadata": {
      "internals": {
       "frag_helper": "fragment_end",
       "frag_number": 8,
       "slide_helper": "subslide_end",
       "slide_type": "subslide"
      },
      "slide_helper": "slide_end",
      "slideshow": {
       "slide_type": "slide"
      }
     },
     "outputs": [
      {
       "output_type": "stream",
       "stream": "stdout",
       "text": [
        "Hello World\n",
        "Hello World\n",
        "Hello World\n",
        "\n"
       ]
      }
     ],
     "prompt_number": 3
    },
    {
     "cell_type": "markdown",
     "metadata": {
      "internals": {
       "frag_helper": "fragment_end",
       "frag_number": 8,
       "slide_helper": "subslide_end",
       "slide_type": "subslide"
      },
      "slide_helper": "subslide_end",
      "slideshow": {
       "slide_type": "slide"
      }
     },
     "source": [
      "# Pointers\n",
      "\n",
      "* Contain memory location of a variable.\n",
      "\n",
      "* Created with: `TYPENAME *ptr`.\n",
      "* Get the memory location with:  `&VARIABLE_NAME`\n",
      "* Get value pointed at with: `*POINTER_NAME`.\n",
      "\n",
      "```cpp\n",
      "int a = 7;\n",
      "int *ptr = &a;    // ptr 'points' to a\n",
      "cout << a;        // 7\n",
      "cout << ptr;      // memory location (0x7fff5500e792)\n",
      "cout << *ptr;     // 'dereference' a (= 7)\n",
      "*ptr = 12;        // 'a' now equals 12\n",
      "cout << a;        // 12\n",
      "```"
     ]
    },
    {
     "cell_type": "code",
     "collapsed": false,
     "input": [
      "%%cpp\n",
      "\n",
      "#include <iostream>\n",
      "using namespace std;\n",
      "int main() {\n",
      "  int a = 7, b = 9;\n",
      "  int *ptr = &a;\n",
      "  cout << a << '\\n';\n",
      "  cout << ptr << '\\n';\n",
      "  cout << *ptr << '\\n';\n",
      "  *ptr = 12;\n",
      "  cout << \"a == \" << a << \"\\n\";\n",
      "  return 0;\n",
      "}"
     ],
     "language": "python",
     "metadata": {
      "internals": {
       "frag_helper": "fragment_end",
       "frag_number": 8,
       "slide_helper": "subslide_end",
       "slide_type": "subslide"
      },
      "slide_helper": "slide_end",
      "slideshow": {
       "slide_type": "subslide"
      }
     },
     "outputs": [
      {
       "output_type": "stream",
       "stream": "stdout",
       "text": [
        "7\n",
        "0x7fff5b5b876c\n",
        "7\n",
        "a == 12\n",
        "\n"
       ]
      }
     ],
     "prompt_number": 6
    },
    {
     "cell_type": "markdown",
     "metadata": {
      "internals": {
       "frag_helper": "fragment_end",
       "frag_number": 8,
       "slide_helper": "subslide_end",
       "slide_type": "subslide"
      },
      "slide_helper": "subslide_end",
      "slideshow": {
       "slide_type": "slide"
      }
     },
     "source": [
      "# References\n",
      "\n",
      "* Steals the identity of another variable\n",
      "* Does not allocate new space\n",
      "* Not a pointer, but CAN change the value of another variable\n"
     ]
    },
    {
     "cell_type": "code",
     "collapsed": false,
     "input": [
      "%%cpp\n",
      "\n",
      "#include <iostream>\n",
      "using namespace std;\n",
      "\n",
      "void add_three(int& x) {\n",
      "  x += 3;\n",
      "  cout << \"X is at location: \" << &x << \"\\n\";\n",
      "}\n",
      "\n",
      "int main() {\n",
      "  int a = 7;\n",
      "  cout << a << '\\n';\n",
      "  add_three(a);\n",
      "  cout << a << '\\n';\n",
      "  cout << \"a is at location: \" << &a << \"\\n\";\n",
      "\n",
      "\n",
      "}"
     ],
     "language": "python",
     "metadata": {
      "internals": {
       "frag_helper": "fragment_end",
       "frag_number": 8,
       "slide_helper": "subslide_end",
       "slide_type": "subslide"
      },
      "slide_helper": "slide_end",
      "slideshow": {
       "slide_type": "subslide"
      }
     },
     "outputs": [
      {
       "output_type": "stream",
       "stream": "stdout",
       "text": [
        "7\n",
        "X is at location: 0x7fff51ad274c\n",
        "10\n",
        "a is at location: 0x7fff51ad274c\n",
        "\n"
       ]
      }
     ],
     "prompt_number": 8
    },
    {
     "cell_type": "markdown",
     "metadata": {
      "internals": {
       "frag_helper": "fragment_end",
       "frag_number": 8,
       "slide_type": "subslide"
      },
      "slideshow": {
       "slide_type": "slide"
      }
     },
     "source": [
      "# Memory Management"
     ]
    },
    {
     "cell_type": "markdown",
     "metadata": {
      "internals": {
       "frag_helper": "fragment_end",
       "frag_number": 16
      },
      "slideshow": {
       "slide_type": "fragment"
      }
     },
     "source": [
      "* `C : malloc(), free() `   &#8592; Standard System Calls \n",
      "```cpp\n",
      "int *a = malloc(sizeof(int) * 100);\n",
      "...\n",
      "free(a);\n",
      "```"
     ]
    },
    {
     "cell_type": "markdown",
     "metadata": {
      "internals": {
       "frag_helper": "fragment_end",
       "frag_number": 17
      },
      "slideshow": {
       "slide_type": "fragment"
      }
     },
     "source": [
      "* `C++: new, delete`   &#8592; Language keywords"
     ]
    },
    {
     "cell_type": "markdown",
     "metadata": {
      "internals": {
       "frag_helper": "fragment_end",
       "frag_number": 18,
       "slide_helper": "subslide_end"
      },
      "slide_helper": "subslide_end",
      "slideshow": {
       "slide_type": "fragment"
      }
     },
     "source": [
      "\n",
      "```cpp\n",
      "int *i = new int; // create integer in dynamic memory space \n",
      "                  // (the 'heap')\n",
      "\n",
      "*i = 1025;  // Set the value at memory position 'i' to 1025\n",
      "\n",
      "int *a = new int[100]; // create 100 integers - \n",
      "                       // size is figured out for you!\n",
      "\n",
      "*(a + 3) = 8; // Set the third value from memory\n",
      "              // position 'a' to 8\n",
      "a[3] = 4;     // Set the same value to 4\n",
      "a[0] = 31415; // Set the ZEROTH value to 31415\n",
      "\n",
      "delete i;\n",
      "delete[] a;\n",
      "\n",
      "```"
     ]
    },
    {
     "cell_type": "code",
     "collapsed": false,
     "input": [
      "%%cpp\n",
      "#include <iostream>\n",
      "using namespace std;\n",
      "int main()\n",
      "{\n",
      "  int *a = new int;\n",
      "  cout << \"a : \" << a << ' ' << *a << \"\\n\";\n",
      "  *a = 100;\n",
      "  cout << \"a : \" << a << ' ' << *a << \"\\n\";\n",
      "\n",
      "  delete a;\n",
      "  return 0;\n",
      "}"
     ],
     "language": "python",
     "metadata": {
      "internals": {
       "frag_helper": "fragment_end",
       "frag_number": 18,
       "slide_helper": "subslide_end",
       "slide_type": "subslide"
      },
      "slide_helper": "slide_end",
      "slideshow": {
       "slide_type": "subslide"
      }
     },
     "outputs": [
      {
       "output_type": "stream",
       "stream": "stdout",
       "text": [
        "a : 0x7ffcf8403a60 0\n",
        "a : 0x7ffcf8403a60 100\n",
        "\n"
       ]
      }
     ],
     "prompt_number": 26
    },
    {
     "cell_type": "markdown",
     "metadata": {
      "internals": {
       "frag_helper": "fragment_end",
       "frag_number": 18,
       "slide_type": "subslide"
      },
      "slideshow": {
       "slide_type": "slide"
      }
     },
     "source": [
      "## More C/C++ Differences \n",
      "Functions can have the same name with different arguments"
     ]
    },
    {
     "cell_type": "code",
     "collapsed": false,
     "input": [
      "%%cpp \n",
      "\n",
      "#include <cstdio>\n",
      "using namespace std;\n",
      "\n",
      "void foo(int a) {\n",
      "  printf(\"int: %d\\n\", a);\n",
      "}\n",
      "\n",
      "void foo(float a) {\n",
      "  printf(\"float: %f\\n\", a);\n",
      "}\n",
      "\n",
      "void foo(double a) {\n",
      "  printf(\"double: %f\\n\", a);\n",
      "}\n",
      "\n",
      "int main() {\n",
      "    foo(10);\n",
      "    foo(10.);\n",
      "    foo(10.f);\n",
      "    return 0;\n",
      "}"
     ],
     "language": "python",
     "metadata": {
      "internals": {
       "frag_helper": "fragment_end",
       "frag_number": 21,
       "slide_helper": "subslide_end"
      },
      "slide_helper": "subslide_end",
      "slideshow": {
       "slide_type": "fragment"
      }
     },
     "outputs": [
      {
       "output_type": "stream",
       "stream": "stdout",
       "text": [
        "int: 10\n",
        "double: 10.000000\n",
        "float: 10.000000\n",
        "\n"
       ]
      }
     ],
     "prompt_number": 9
    },
    {
     "cell_type": "markdown",
     "metadata": {
      "internals": {
       "frag_helper": "fragment_end",
       "frag_number": 21,
       "slide_type": "subslide"
      },
      "slideshow": {
       "slide_type": "subslide"
      }
     },
     "source": [
      "Functions must be declared BEFORE use"
     ]
    },
    {
     "cell_type": "code",
     "collapsed": false,
     "input": [
      "%%cpp \n",
      "\n",
      "#include <cstdio>\n",
      "#include <iostream>\n",
      "using namespace std;\n",
      "\n",
      "int main()\n",
      "{\n",
      "  printstuff();\n",
      "  return 0;\n",
      "}\n",
      "\n",
      "void printstuff() {\n",
      "  cout << \"cout  : \" << std::scientific << 88923749827.234 << \" : \" << 88923749827.234 << \"\\n\";\n",
      "  printf(\"printf: %e : %f \", 88923749827.234, 88923749827.234);\n",
      "}\n"
     ],
     "language": "python",
     "metadata": {
      "internals": {
       "frag_helper": "fragment_end",
       "frag_number": 23,
       "slide_helper": "subslide_end"
      },
      "slide_helper": "slide_end",
      "slideshow": {
       "slide_type": "fragment"
      }
     },
     "outputs": [
      {
       "output_type": "stream",
       "stream": "stderr",
       "text": [
        "_cpp_magic_157df8d3ecfb6ee5eeff307ab1fd6843.cpp: In function 'int main()':\n",
        "_cpp_magic_157df8d3ecfb6ee5eeff307ab1fd6843.cpp:8:14: error: 'printstuff' was not declared in this scope\n",
        "   printstuff();\n",
        "              ^\n",
        "\n",
        "ERROR: command `g++ _cpp_magic_157df8d3ecfb6ee5eeff307ab1fd6843.cpp -o _cpp_magic_157df8d3ecfb6ee5eeff307ab1fd6843.o` failed.\n"
       ]
      }
     ],
     "prompt_number": 17
    },
    {
     "cell_type": "markdown",
     "metadata": {
      "internals": {
       "frag_helper": "fragment_end",
       "frag_number": 23,
       "slide_helper": "subslide_end",
       "slide_type": "subslide"
      },
      "slide_helper": "slide_end",
      "slideshow": {
       "slide_type": "slide"
      }
     },
     "source": [
      "# Object Oriented Programming\n",
      "\n",
      "#### What/Why?\n",
      "\n",
      "* Group data and functions together into classes.\n",
      "\n",
      "* Create objects from classes\n",
      "  * Each with their own version of the data\n",
      "  * The object has the class as its 'type'\n",
      "* The object's functions retreive/manipulate the data  \n",
      "\n",
      "\n",
      "* Classes can inherit data/functions from 'parent' classes"
     ]
    },
    {
     "cell_type": "markdown",
     "metadata": {
      "internals": {
       "frag_helper": "fragment_end",
       "frag_number": 23,
       "slide_helper": "subslide_end",
       "slide_type": "subslide"
      },
      "slide_helper": "subslide_end",
      "slideshow": {
       "slide_type": "slide"
      }
     },
     "source": [
      "# Object Oriented Programming\n",
      "\n",
      "### Principles\n",
      "\n",
      "* Encapsulation\n",
      " * Objects 'hide' data from rest of program (\"members\")\n",
      " * Only _objects themselves_ can change their state through use of functions or 'methods' \n"
     ]
    },
    {
     "cell_type": "markdown",
     "metadata": {
      "internals": {
       "frag_helper": "fragment_end",
       "frag_number": 23,
       "slide_helper": "subslide_end",
       "slide_type": "subslide"
      },
      "slide_helper": "subslide_end",
      "slideshow": {
       "slide_type": "subslide"
      }
     },
     "source": [
      "* Inheritance\n",
      " * Classes derived from other classes\n",
      "      * Reuse classes\n",
      "      * Copy and extend functionality\n",
      " * Start with general classes and become more specific \n",
      " * Less programming is required when adding functions to complex systems"
     ]
    },
    {
     "cell_type": "markdown",
     "metadata": {
      "internals": {
       "frag_helper": "fragment_end",
       "frag_number": 23,
       "slide_helper": "subslide_end",
       "slide_type": "subslide"
      },
      "slide_helper": "slide_end",
      "slideshow": {
       "slide_type": "subslide"
      }
     },
     "source": [
      "* Polymorphism\n",
      " * Different types can 'behave' the same \n",
      "   * Printing out a description\n",
      "   * Finding area of a shape :: \n",
      "     * `area(circle)`\n",
      "     * `area(rectangle)`\n",
      "   * Multiplication: \n",
      "     * `scalar * scalar`\n",
      "     * `vector * vector`\n",
      "     * `scalar * vector`\n",
      " * Child classes may behave as their parent class\n"
     ]
    },
    {
     "cell_type": "markdown",
     "metadata": {
      "internals": {
       "frag_helper": "fragment_end",
       "frag_number": 23,
       "slide_helper": "subslide_end",
       "slide_type": "subslide"
      },
      "slide_helper": "subslide_end",
      "slideshow": {
       "slide_type": "slide"
      }
     },
     "source": [
      "# Streams\n",
      "\n",
      "* C++ provides 3 standard 'console' streams\n",
      " * `#include <iostream>`\n",
      " * `std::cout` - standard output\n",
      " * `std::cin ` - standard input\n",
      " * `std::cerr` - error output\n",
      "* Streams are a good example of **polymorphism** by printing of different types with same interface.\n",
      "* Different kinds of streams\n",
      " * File streams : `#include <fstream>`\n",
      " * String streams : `#include <sstream>`\n",
      "* Use new 'stream operators': `>>` and `<<`\n",
      " * Think : things flowing into and out of the objects"
     ]
    },
    {
     "cell_type": "markdown",
     "metadata": {
      "internals": {
       "frag_helper": "fragment_end",
       "frag_number": 23,
       "slide_helper": "subslide_end",
       "slide_type": "subslide"
      },
      "slide_helper": "subslide_end",
      "slideshow": {
       "slide_type": "subslide"
      }
     },
     "source": [
      "\n",
      "```cpp\n",
      "int *ptr;\n",
      "std::cout << \"one \" << ptr << ' ' << *ptr << \" \" << 3;\n",
      "int i;\n",
      "std::cout << \"Please type an integer: \";\n",
      "std::cin >> i;\n",
      "\n",
      "if (i < 100) {\n",
      "  std::cerr << \"Error, number too small!\\n\";\n",
      "  exit(1);\n",
      "}\n",
      "```"
     ]
    },
    {
     "cell_type": "code",
     "collapsed": false,
     "input": [
      "%%cpp\n",
      "\n",
      "#include <iostream>\n",
      "#include <sstream>\n",
      "\n",
      "int main()\n",
      "{\n",
      "  int i = 9;\n",
      "  std::stringstream ss;\n",
      "  ss << \"one \" << 2 << ' ' << 3.0 << \" \" << i << ' ' << &i << \"\\n\";\n",
      "  const char *ptr = ss.str().c_str();\n",
      "  printf(\"%p %s\\n\", ptr, ptr );\n",
      "  return 0;\n",
      "}\n"
     ],
     "language": "python",
     "metadata": {
      "internals": {
       "frag_helper": "fragment_end",
       "frag_number": 23,
       "slide_helper": "subslide_end",
       "slide_type": "subslide"
      },
      "slide_helper": "slide_end",
      "slideshow": {
       "slide_type": "subslide"
      }
     },
     "outputs": [
      {
       "output_type": "stream",
       "stream": "stdout",
       "text": [
        "0x7face0403d38 one 2 3 9 0x7fff5b49d76c\n",
        "\n",
        "\n"
       ]
      }
     ],
     "prompt_number": 42
    },
    {
     "cell_type": "markdown",
     "metadata": {
      "internals": {
       "frag_helper": "fragment_end",
       "frag_number": 23,
       "slide_helper": "subslide_end",
       "slide_type": "subslide"
      },
      "slide_helper": "subslide_end",
      "slideshow": {
       "slide_type": "slide"
      }
     },
     "source": [
      "# Templates\n",
      "\n",
      "* Templates provide automatic polymorphism by demanding that functions or classes act on certain data types.\n",
      "* Specify functions which will have types _later_\n",
      "* Compile-time determination"
     ]
    },
    {
     "cell_type": "code",
     "collapsed": false,
     "input": [
      "%%cpp\n",
      "\n",
      "#include <iostream>\n",
      "using namespace std;\n",
      "\n",
      "template <typename T>\n",
      "void foo(T x) {\n",
      "  cout << \"[foo] \" << x << '\\n';\n",
      "}\n",
      "\n",
      "void foot(char x) {\n",
      "  cout << \"[foot] \" << x << '\\n';\n",
      "}\n",
      "\n",
      "int main() {\n",
      "foo<char*>(78);\n",
      " foot(78);\n",
      " return 0;\n",
      "}"
     ],
     "language": "python",
     "metadata": {
      "internals": {
       "frag_helper": "fragment_end",
       "frag_number": 23,
       "slide_helper": "subslide_end",
       "slide_type": "subslide"
      },
      "slide_helper": "slide_end",
      "slideshow": {
       "slide_type": "subslide"
      }
     },
     "outputs": [
      {
       "output_type": "stream",
       "stream": "stderr",
       "text": [
        "_cpp_magic_aa35fa4dcb3b3ed5f9e8ae1ceef79b3a.cpp: In function 'int main()':\n",
        "_cpp_magic_aa35fa4dcb3b3ed5f9e8ae1ceef79b3a.cpp:15:14: error: no matching function for call to 'foo(int)'\n",
        " foo<char*>(78);\n",
        "              ^\n",
        "_cpp_magic_aa35fa4dcb3b3ed5f9e8ae1ceef79b3a.cpp:15:14: note: candidate is:\n",
        "_cpp_magic_aa35fa4dcb3b3ed5f9e8ae1ceef79b3a.cpp:6:6: note: template<class T> void foo(T)\n",
        " void foo(T x) {\n",
        "      ^\n",
        "_cpp_magic_aa35fa4dcb3b3ed5f9e8ae1ceef79b3a.cpp:6:6: note:   template argument deduction/substitution failed:\n",
        "_cpp_magic_aa35fa4dcb3b3ed5f9e8ae1ceef79b3a.cpp:15:14: note:   cannot convert '78' (type 'int') to type 'char*'\n",
        " foo<char*>(78);\n",
        "              ^\n",
        "\n",
        "ERROR: command `g++ _cpp_magic_aa35fa4dcb3b3ed5f9e8ae1ceef79b3a.cpp -o _cpp_magic_aa35fa4dcb3b3ed5f9e8ae1ceef79b3a.o` failed.\n"
       ]
      }
     ],
     "prompt_number": 49
    },
    {
     "cell_type": "markdown",
     "metadata": {
      "internals": {
       "frag_helper": "fragment_end",
       "frag_number": 23,
       "slide_helper": "subslide_end",
       "slide_type": "subslide"
      },
      "slide_helper": "subslide_end",
      "slideshow": {
       "slide_type": "slide"
      }
     },
     "source": [
      "# Standard Template Library\n",
      "\n",
      "C++ comes with standard containers and algorithms which make a lot of things easier."
     ]
    },
    {
     "cell_type": "markdown",
     "metadata": {
      "internals": {
       "frag_helper": "fragment_end",
       "frag_number": 23,
       "slide_helper": "subslide_end",
       "slide_type": "subslide"
      },
      "slide_helper": "subslide_end",
      "slideshow": {
       "slide_type": "subslide"
      }
     },
     "source": [
      "# std::vector\n",
      "\n",
      "* Not mathematical vectors!\n",
      "* Automatically allocates memory and stores whatever type is in template\n",
      "  * Better than an array\n",
      "* Fill with `push_back()`/`insert()`\n",
      "* Good for random access elements\n",
      "\n",
      "```cpp\n",
      "\n",
      " #include <vector>\n",
      "\n",
      " std::vector<int> vi; // vector of integers\n",
      " std::vector<float> vf; // vector of floats\n",
      " std::vector<std::vector<int> > vv; //vector of int vectors\n",
      "``` \n"
     ]
    },
    {
     "cell_type": "code",
     "collapsed": false,
     "input": [
      "%%cpp\n",
      "\n",
      "#include <vector>\n",
      "#include <iostream>\n",
      "\n",
      "int main()\n",
      "{\n",
      "   std::vector<int> *v = new std::vector<int>();\n",
      "   for (int i = 0; i < 200000; i++) {\n",
      "     v->push_back(i * 10);\n",
      "   }\n",
      "  std::cout << \"Size : \" << v->size() << \"\\n\";\n",
      "  std::cout << \"v[19] : \" << (*v)[9] << '\\n';\n",
      "  delete v;\n",
      "  return 0;\n",
      "}\n"
     ],
     "language": "python",
     "metadata": {
      "internals": {
       "frag_helper": "fragment_end",
       "frag_number": 23,
       "slide_helper": "subslide_end",
       "slide_type": "subslide"
      },
      "slide_helper": "subslide_end",
      "slideshow": {
       "slide_type": "subslide"
      }
     },
     "outputs": [
      {
       "output_type": "stream",
       "stream": "stdout",
       "text": [
        "Size : 200000\n",
        "v[19] : 90\n",
        "\n"
       ]
      }
     ],
     "prompt_number": 18
    },
    {
     "cell_type": "code",
     "collapsed": false,
     "input": [
      "%%cpp\n",
      "\n",
      "\n",
      "#include <vector>\n",
      "#include <iostream>\n",
      "\n",
      "int main()\n",
      "{\n",
      "  // CONSTRUCTOR :: Vector has 20 elements with the number '2'\n",
      "  std::vector<float> v(20);\n",
      "  std::cout << \"Size : \" << v.size() << \"\\n\";\n",
      "  std::cout << \"v[19] : \" << v[19] << '\\n';\n",
      "  std::cout << \"-----\\n\";\n",
      "  for (int i = 0; i < 20; i++) {\n",
      "     v.push_back(i * 10.5);\n",
      "  }\n",
      "  std::cout << \"Size : \" << v.size() << \"\\n\";\n",
      "  std::cout << \"v[29] : \" << v[29] << '\\n';\n",
      "  return 0;\n",
      "}\n"
     ],
     "language": "python",
     "metadata": {
      "internals": {
       "frag_helper": "fragment_end",
       "frag_number": 23,
       "slide_helper": "subslide_end",
       "slide_type": "subslide"
      },
      "slide_helper": "slide_end",
      "slideshow": {
       "slide_type": "subslide"
      }
     },
     "outputs": [
      {
       "output_type": "stream",
       "stream": "stdout",
       "text": [
        "Size : 20\n",
        "v[19] : 0\n",
        "-----\n",
        "Size : 40\n",
        "v[29] : 94.5\n",
        "\n"
       ]
      }
     ],
     "prompt_number": 57
    },
    {
     "cell_type": "markdown",
     "metadata": {
      "internals": {
       "frag_helper": "fragment_end",
       "frag_number": 23,
       "slide_helper": "subslide_end",
       "slide_type": "subslide"
      },
      "slide_helper": "subslide_end",
      "slideshow": {
       "slide_type": "slide"
      }
     },
     "source": [
      "# std::string\n",
      "\n",
      "* Automatic\n",
      "  * size allocation\n",
      "  * concatenation\n",
      "  * comparison\n",
      "\n",
      "```cpp\n",
      "#include <string>\n",
      "\n",
      "std::string s(\"Hello\"); // Create a string with the char[] \"Hello\";\n",
      "s += \" world\";          // Add \" \" to the end of string 's'\n",
      "std::cout << s << \" :-D \"\n",
      "\n",
      "if (s == \"Hello world\") {\n",
      " ...\n",
      "}\n",
      "```"
     ]
    },
    {
     "cell_type": "code",
     "collapsed": false,
     "input": [
      "%%cpp\n",
      "\n",
      "#include <string>\n",
      "#include <iostream>\n",
      "\n",
      "int main() {\n",
      " std::string s(\"Hello\"); // Create a string with the char[] \"Hello\";\n",
      " s += \" world\";          // Add \" \" to the end of string 's'\n",
      " std::cout << s << \" :-D\\n\";\n",
      " if (s != \"Hello world\") {\n",
      "   std::cout << \"EQUAL!\\n\";\n",
      " }\n",
      " std::cout << \"substr: \" << s.substr(3, 8) << \"\\n\";\n",
      " std::cout << s.substr(s.find('o')) << \"\\n\";\n",
      " return 0;\n",
      "}"
     ],
     "language": "python",
     "metadata": {
      "internals": {
       "frag_helper": "fragment_end",
       "frag_number": 23,
       "slide_helper": "subslide_end",
       "slide_type": "subslide"
      },
      "slide_helper": "slide_end",
      "slideshow": {
       "slide_type": "subslide"
      }
     },
     "outputs": [
      {
       "output_type": "stream",
       "stream": "stdout",
       "text": [
        "Hello world :-D\n",
        "substr: lo world\n",
        "o world\n",
        "\n"
       ]
      }
     ],
     "prompt_number": 19
    },
    {
     "cell_type": "markdown",
     "metadata": {
      "internals": {
       "frag_helper": "fragment_end",
       "frag_number": 23,
       "slide_helper": "subslide_end",
       "slide_type": "subslide"
      },
      "slide_helper": "subslide_end",
      "slideshow": {
       "slide_type": "slide"
      }
     },
     "source": [
      "# std::map\n",
      "\n",
      "* Associative array, requires 2 template types\n",
      "\n",
      "```cpp\n",
      "std::map<int, std::string> m; // Maps numbers to strings\n",
      "m[17] = \"Seventeen\";\n",
      "```"
     ]
    },
    {
     "cell_type": "code",
     "collapsed": false,
     "input": [
      "%%cpp\n",
      "#include <string>\n",
      "#include <map>\n",
      "#include <iostream>\n",
      "int main() {\n",
      "\n",
      "std::map<int, std::string> m; // Maps numbers to strings\n",
      "\n",
      "m[17] = \"Seventeen\";\n",
      "m[1] = \"One\";\n",
      "m[42] = \"The answer to life the universe and everything\";\n",
      "m[2] = \"The Only even prime\";\n",
      "\n",
      "\n",
      "std::cout << \"m.size() == \" << m.size() << \"\\n\";\n",
      "std::cout << \"m[17] = '\" << m[17] << \"'\\n\";\n",
      "std::cout << \"m[2]  = '\" << m[2] << \"'\\n\";\n",
      "return 0;\n",
      "}"
     ],
     "language": "python",
     "metadata": {
      "internals": {
       "frag_helper": "fragment_end",
       "frag_number": 23,
       "slide_helper": "subslide_end",
       "slide_type": "subslide"
      },
      "slide_helper": "slide_end",
      "slideshow": {
       "slide_type": "subslide"
      }
     },
     "outputs": [
      {
       "output_type": "stream",
       "stream": "stdout",
       "text": [
        "m.size() == 4\n",
        "m[17] = 'Seventeen'\n",
        "m[2]  = 'The Only even prime'\n",
        "\n"
       ]
      }
     ],
     "prompt_number": 22
    },
    {
     "cell_type": "markdown",
     "metadata": {
      "internals": {
       "frag_helper": "fragment_end",
       "frag_number": 23,
       "slide_helper": "subslide_end",
       "slide_type": "subslide"
      },
      "slide_helper": "slide_end",
      "slideshow": {
       "slide_type": "slide"
      }
     },
     "source": [
      "# Many More!\n",
      "\n",
      "\n",
      "* std::list\n",
      "* std::set\n",
      "* std::queue\n",
      "* std::multimap\n",
      "* std::pair\n",
      "\n",
      "\n",
      "* std::complex\n",
      "* std::random"
     ]
    },
    {
     "cell_type": "markdown",
     "metadata": {
      "internals": {
       "frag_helper": "fragment_end",
       "frag_number": 23,
       "slide_helper": "subslide_end",
       "slide_type": "subslide"
      },
      "slide_helper": "subslide_end",
      "slideshow": {
       "slide_type": "slide"
      }
     },
     "source": [
      "# Classes\n",
      "\n",
      "* Grouped data (members) and functions (methods)\n",
      "* All functions have access to data\n",
      "* Data hiding-\n",
      "  * `public` : Everybody has access\n",
      "  * `protected` : Children have access\n",
      "  * `private`   : Only you have access\n",
      "\n",
      "```cpp\n",
      "class CLASSNAME {\n",
      "public:\n",
      "  CLASSNAME();      // Constructor\n",
      "  CLASSNAME(int x); // Constructor\n",
      "\n",
      "  void SayHi();      // Method\n",
      "  int GetX() const;  // Constant Method\n",
      "\n",
      "private:\n",
      "  int _x; // Private Member\n",
      "};\n",
      "```\n"
     ]
    },
    {
     "cell_type": "markdown",
     "metadata": {
      "internals": {
       "frag_helper": "fragment_end",
       "frag_number": 23,
       "slide_helper": "subslide_end",
       "slide_type": "subslide"
      },
      "slide_helper": "subslide_end",
      "slideshow": {
       "slide_type": "subslide"
      }
     },
     "source": [
      "* Define functions with double colon\n",
      "\n",
      "```cpp\n",
      "int CLASSNAME::GetX() {\n",
      "  return _x;\n",
      "}\n",
      "```"
     ]
    },
    {
     "cell_type": "markdown",
     "metadata": {
      "internals": {
       "frag_helper": "fragment_end",
       "frag_number": 23,
       "slide_helper": "subslide_end",
       "slide_type": "subslide"
      },
      "slide_helper": "subslide_end",
      "slideshow": {
       "slide_type": "subslide"
      }
     },
     "source": [
      "* Access the 'current' object using the `this` keyword\n",
      " * `this` is a pointer to the current object, and can be treated as such\n",
      "\n",
      "```cpp\n",
      "void SayHi() {\n",
      "   std::cout << \"the object at \" << this << \" says hi.\\n\";\n",
      "}\n",
      "```\n"
     ]
    },
    {
     "cell_type": "code",
     "collapsed": false,
     "input": [
      "%%cpp\n",
      "\n",
      "#include <iostream>\n",
      "\n",
      "// Class Declaration\n",
      "class A {\n",
      "public:\n",
      "  A();\n",
      "  void SayHello();\n",
      "  int _count; // Counts number of times 'A' says \"hello\"\n",
      "};\n",
      "\n",
      "// Constructor Definition\n",
      "A::A():\n",
      " _count(0) // initialize _count to zero\n",
      "{\n",
      "\n",
      "}\n",
      "\n",
      "void A::SayHello() {\n",
      "  std::cout << \"HELLO! (\" << _count++ << \", \"<< this <<\") \\n\";\n",
      "}\n",
      "\n",
      "int main() {\n",
      " A a;\n",
      " a._count = 20;\n",
      " a.SayHello();\n",
      " a.SayHello();\n",
      " a.SayHello();\n",
      " A b;\n",
      " b.SayHello();\n",
      " a.SayHello();\n",
      " return 0;\n",
      "}\n"
     ],
     "language": "python",
     "metadata": {
      "internals": {
       "frag_helper": "fragment_end",
       "frag_number": 23,
       "slide_helper": "subslide_end",
       "slide_type": "subslide"
      },
      "slide_helper": "slide_end",
      "slideshow": {
       "slide_type": "subslide"
      }
     },
     "outputs": [
      {
       "output_type": "stream",
       "stream": "stdout",
       "text": [
        "HELLO! (20, 0x7fff5485b780) \n",
        "HELLO! (21, 0x7fff5485b780) \n",
        "HELLO! (22, 0x7fff5485b780) \n",
        "HELLO! (0, 0x7fff5485b770) \n",
        "HELLO! (23, 0x7fff5485b780) \n",
        "\n"
       ]
      }
     ],
     "prompt_number": 66
    },
    {
     "cell_type": "markdown",
     "metadata": {
      "internals": {
       "frag_helper": "fragment_end",
       "frag_number": 23,
       "slide_helper": "subslide_end",
       "slide_type": "subslide"
      },
      "slide_helper": "subslide_end",
      "slideshow": {
       "slide_type": "slide"
      }
     },
     "source": [
      "# Inheritance\n",
      "\n",
      "* Children get `public`/`protected` members/methods of parent class\n",
      "* Specify parents at class declaration\n",
      "\n",
      "```cpp\n",
      "class Child : public Parent {\n",
      "\n",
      "...\n",
      "\n",
      "};\n",
      "```\n"
     ]
    },
    {
     "cell_type": "markdown",
     "metadata": {
      "internals": {
       "frag_helper": "fragment_end",
       "frag_number": 23,
       "slide_helper": "subslide_end",
       "slide_type": "subslide"
      },
      "slide_helper": "subslide_end",
      "slideshow": {
       "slide_type": "subslide"
      }
     },
     "source": [
      "# Multiple Inheritance\n",
      "\n",
      "* Can inherit members from multiple classes\n",
      "\n",
      "```cpp\n",
      "class Child : public Parent1, public Parent2 {\n",
      "\n",
      "...\n",
      "\n",
      "};\n",
      "```\n"
     ]
    },
    {
     "cell_type": "code",
     "collapsed": false,
     "input": [
      "%%cpp\n",
      "\n",
      "#include <iostream>\n",
      "\n",
      "class A {\n",
      "public:\n",
      "  A() {\n",
      "   std::cout << \"Constructing A @\" << this << \"\\n\";\n",
      "  }\n",
      "\n",
      "  void Print() {\n",
      "    std::cout << \"I am an 'A'\\n\";\n",
      "  }\n",
      "};\n",
      "\n",
      "class B : public A {\n",
      "public:\n",
      "  B() {\n",
      "   std::cout << \"Constructing B @\" << this << \"\\n\";\n",
      "  }\n",
      "};\n",
      "\n",
      "int main() {\n",
      " A a;\n",
      " B b;\n",
      "\n",
      " std::cout << \"---\\n\";\n",
      " a.Print(); // A::Print()\n",
      " b.Print(); // A::Print()\n",
      "\n",
      "//# A *c = (A*)&b;\n",
      "//# c->Print();\n",
      "\n",
      " return 0;\n",
      "}"
     ],
     "language": "python",
     "metadata": {
      "internals": {
       "frag_helper": "fragment_end",
       "frag_number": 23,
       "slide_helper": "subslide_end",
       "slide_type": "subslide"
      },
      "slide_helper": "slide_end",
      "slideshow": {
       "slide_type": "subslide"
      }
     },
     "outputs": [
      {
       "output_type": "stream",
       "stream": "stdout",
       "text": [
        "Constructing A @0x7fff4ff8a74f\n",
        "Constructing A @0x7fff4ff8a74e\n",
        "Constructing B @0x7fff4ff8a74e\n",
        "---\n",
        "I am an 'A'\n",
        "I am an 'A'\n",
        "\n"
       ]
      }
     ],
     "prompt_number": 24
    },
    {
     "cell_type": "markdown",
     "metadata": {
      "internals": {
       "frag_helper": "fragment_end",
       "frag_number": 23,
       "slide_helper": "subslide_end",
       "slide_type": "subslide"
      },
      "slide_helper": "subslide_end",
      "slideshow": {
       "slide_type": "slide"
      }
     },
     "source": [
      "# Abstract Classes\n",
      "\n",
      "* Sometimes you don't want to make an object from a class\n",
      " * Force developers to subclass\n",
      "* Use 'Pure Virtual Functions' to do this\n",
      "```cpp\n",
      "class Shape {\n",
      "public:\n",
      "   Shape();                  // constructor\n",
      "   virtual double Area()=0; // 'pure virtual' function\n",
      "};\n",
      "```"
     ]
    },
    {
     "cell_type": "markdown",
     "metadata": {
      "internals": {
       "frag_helper": "fragment_end",
       "frag_number": 23,
       "slide_helper": "subslide_end",
       "slide_type": "subslide"
      },
      "slide_helper": "subslide_end",
      "slideshow": {
       "slide_type": "subslide"
      }
     },
     "source": [
      "* User must subclass Shape to use it\n",
      "\n",
      "```cpp\n",
      "class Circle : public Shape {\n",
      "public:\n",
      "    Circle(double radius): _r(radius){};\n",
      "\n",
      "    double Area() {\n",
      "      return 3.1415 * _r * _r;\n",
      "    }\n",
      "\n",
      "protected:\n",
      "   double _r;\n",
      "};\n",
      "```"
     ]
    },
    {
     "cell_type": "code",
     "collapsed": false,
     "input": [
      "%%cpp\n",
      "#include <iostream>\n",
      "using namespace std;\n",
      "\n",
      "class Shape {\n",
      "public:\n",
      "    Shape(){};  // constructor\n",
      "    virtual double Area() = 0; // 'pure virtual' function\n",
      "};\n",
      "\n",
      "int main()\n",
      "{\n",
      "  Shape s;\n",
      "  return 0;\n",
      "}"
     ],
     "language": "python",
     "metadata": {
      "internals": {
       "frag_helper": "fragment_end",
       "frag_number": 23,
       "slide_helper": "subslide_end",
       "slide_type": "subslide"
      },
      "slide_helper": "subslide_end",
      "slideshow": {
       "slide_type": "subslide"
      }
     },
     "outputs": [
      {
       "output_type": "stream",
       "stream": "stderr",
       "text": [
        "_cpp_magic_331ad67cd32b82d92801e90cda4050ad.cpp: In function 'int main()':\n",
        "_cpp_magic_331ad67cd32b82d92801e90cda4050ad.cpp:12:9: error: cannot declare variable 's' to be of abstract type 'Shape'\n",
        "   Shape s;\n",
        "         ^\n",
        "_cpp_magic_331ad67cd32b82d92801e90cda4050ad.cpp:4:7: note:   because the following virtual functions are pure within 'Shape':\n",
        " class Shape {\n",
        "       ^\n",
        "_cpp_magic_331ad67cd32b82d92801e90cda4050ad.cpp:7:20: note: \tvirtual double Shape::Area()\n",
        "     virtual double Area() = 0; // 'pure virtual' function\n",
        "                    ^\n",
        "\n",
        "ERROR: command `g++ _cpp_magic_331ad67cd32b82d92801e90cda4050ad.cpp -o _cpp_magic_331ad67cd32b82d92801e90cda4050ad.o` failed.\n"
       ]
      }
     ],
     "prompt_number": 25
    },
    {
     "cell_type": "code",
     "collapsed": false,
     "input": [
      "%%cpp\n",
      "#include <iostream>\n",
      "using namespace std;\n",
      "\n",
      "class Shape {\n",
      "public:\n",
      "  Shape(){};                 // constructor\n",
      "  virtual double Area() = 0; // 'pure virtual' function\n",
      "};\n",
      "\n",
      "class Circle : public Shape {\n",
      "public:\n",
      "    Circle(double radius): _r(radius){};\n",
      "\n",
      "    double Area() {\n",
      "      return 3.1415 * _r * _r;\n",
      "    }\n",
      "\n",
      "protected:\n",
      "   double _r;\n",
      "};\n",
      "\n",
      "class Rectangle : public Shape {\n",
      "public:\n",
      "    Rectangle(double length, double width): _l(length), _w(width)\n",
      "    {\n",
      "     cout << \"Created rectangle with length=\" << _l \n",
      "                             << \" and width=\" << _w << \"\\n\";\n",
      "     };\n",
      "\n",
      "    double Area() {\n",
      "      return _l * _w;\n",
      "    }\n",
      "\n",
      "protected:\n",
      "   double _l;\n",
      "   double _w;\n",
      "};\n",
      "\n",
      "void PrintArea(Shape& s)\n",
      "{\n",
      "  std::cout << \"area == \" << s.Area() << endl;\n",
      "}\n",
      "\n",
      "int main()\n",
      "{\n",
      "  Rectangle r(5,10);\n",
      "  Circle c(25.);\n",
      "\n",
      "  PrintArea(r);\n",
      "  PrintArea(c);\n",
      "  \n",
      "   cout << \"---\\n\" << \"area == \" << r.Area() << endl;\n",
      "\n",
      "  return 0;\n",
      "}\n",
      "\n"
     ],
     "language": "python",
     "metadata": {
      "internals": {
       "frag_helper": "fragment_end",
       "frag_number": 23,
       "slide_helper": "subslide_end",
       "slide_type": "subslide"
      },
      "slide_helper": "subslide_end",
      "slideshow": {
       "slide_type": "subslide"
      }
     },
     "outputs": [
      {
       "output_type": "stream",
       "stream": "stdout",
       "text": [
        "Created rectangle with length=5 and width=10\n",
        "area == 50\n",
        "area == 1963.44\n",
        "---\n",
        "area == 50\n",
        "\n"
       ]
      }
     ],
     "prompt_number": 26
    },
    {
     "cell_type": "code",
     "collapsed": false,
     "input": [
      "%%cpp\n",
      "#include <iostream>\n",
      "using namespace std;\n",
      "\n",
      "class Shape {\n",
      "public:\n",
      "  Shape(){};                 // constructor\n",
      "  virtual double Area() = 0; // 'pure virtual' function\n",
      "};\n",
      "\n",
      "class Circle : public Shape {\n",
      "public:\n",
      "    Circle(double radius): _r(radius){};\n",
      "\n",
      "    double Area() {\n",
      "      return 3.1415 * _r * _r;\n",
      "    }\n",
      "\n",
      "protected:\n",
      "   double _r;\n",
      "};\n",
      "\n",
      "int main()\n",
      "{\n",
      "  Circle c(25.);\n",
      "\n",
      "  cout << \"Circle area == \" << c.Area() << endl;\n",
      "  return 0;\n",
      "}\n",
      "\n"
     ],
     "language": "python",
     "metadata": {
      "internals": {
       "frag_helper": "fragment_end",
       "frag_number": 23,
       "slide_helper": "subslide_end",
       "slide_type": "subslide"
      },
      "slide_helper": "slide_end",
      "slideshow": {
       "slide_type": "subslide"
      }
     },
     "outputs": []
    },
    {
     "cell_type": "markdown",
     "metadata": {
      "internals": {
       "frag_helper": "fragment_end",
       "frag_number": 23,
       "slide_helper": "subslide_end",
       "slide_type": "subslide"
      },
      "slide_helper": "subslide_end",
      "slideshow": {
       "slide_type": "slide"
      }
     },
     "source": [
      "# Operators\n",
      "* Special functions in the class which allow programmers to use symbols like '+', '-'\n",
      "* `operatorXXX()`, where XXX is the symbol\n",
      "\n",
      "```cpp\n",
      "class A {\n",
      "protected:\n",
      " int _x;                 // protected integer _x\n",
      "public:\n",
      "  A():_x(0){};           // Default _x = 0\n",
      "  A(int i): _x(i) {};    // Construct with _x\n",
      "\n",
      "  A operator+(A& a) {    // ADDITION OPERATOR\n",
      "    return A(_x + a._x); // A+A\n",
      "  }\n",
      "  \n",
      "  A operator+(int i) {   // ADDITION OPERATOR\n",
      "    return A(_x + i);    // A + int\n",
      "  }\n",
      "\n",
      "  A& operator+=(int i) { // ADDITION/ASSIGNMENT\n",
      "    _x += i;             // A += int\n",
      "    return *this;\n",
      "  }\n",
      "  \n",
      "  void Print() {\n",
      "    std::cout << \"My _x == \" << _x << \"\\n\";\n",
      "  } \n",
      "\n",
      "};\n",
      "```"
     ]
    },
    {
     "cell_type": "code",
     "collapsed": false,
     "input": [
      "%%cpp\n",
      "\n",
      "#include <iostream>\n",
      "using namespace std;\n",
      "\n",
      "class A {\n",
      "public:\n",
      "  A():_x(0){};\n",
      "  A(int i): _x(i) {};\n",
      "\n",
      "\n",
      "  A operator+(A& a) {\n",
      "    return A(_x + a._x);\n",
      "  }\n",
      "  \n",
      "  A operator+(int i) {\n",
      "    return A(_x + i);\n",
      "  }\n",
      "\n",
      "  void operator+=(int i) {\n",
      "    _x += i;\n",
      "  }\n",
      "  \n",
      "  void Print() {\n",
      "    std::cout << \"My _x == \" << _x << \"\\n\";\n",
      "  } \n",
      "\n",
      "protected:\n",
      " int _x;\n",
      "};\n",
      "\n",
      "int main()\n",
      "{\n",
      "  A a;\n",
      "  cout << \"a: \"; a.Print();\n",
      "  a += 4;\n",
      "  cout << \"a: \"; a.Print();\n",
      "  A b(10), c = a + b;\n",
      "  cout << \"b: \"; b.Print();\n",
      "  cout << \"c: \"; c.Print();\n",
      "  return 0;\n",
      "}"
     ],
     "language": "python",
     "metadata": {
      "internals": {
       "frag_helper": "fragment_end",
       "frag_number": 23,
       "slide_type": "subslide"
      },
      "slideshow": {
       "slide_type": "subslide"
      }
     },
     "outputs": [
      {
       "output_type": "stream",
       "stream": "stdout",
       "text": [
        "a: My _x == 0\n",
        "a: My _x == 4\n",
        "b: My _x == 10\n",
        "c: My _x == 14\n",
        "\n"
       ]
      }
     ],
     "prompt_number": 31
    },
    {
     "cell_type": "code",
     "collapsed": false,
     "input": [],
     "language": "python",
     "metadata": {
      "internals": {
       "frag_helper": "fragment_end",
       "frag_number": 23,
       "slide_helper": "subslide_end"
      },
      "slide_helper": "slide_end",
      "slideshow": {
       "slide_type": "-"
      }
     },
     "outputs": []
    }
   ],
   "metadata": {}
  }
 ]
}